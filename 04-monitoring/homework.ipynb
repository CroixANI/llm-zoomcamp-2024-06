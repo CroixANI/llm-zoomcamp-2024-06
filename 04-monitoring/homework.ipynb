{
 "cells": [
  {
   "cell_type": "markdown",
   "id": "5125dfe5-0ba4-4f35-8fa9-59328830fd8a",
   "metadata": {},
   "source": [
    "# Load data"
   ]
  },
  {
   "cell_type": "code",
   "execution_count": 1,
   "id": "4f111521-e5a4-4663-8328-c45ec2785dbb",
   "metadata": {},
   "outputs": [
    {
     "data": {
      "text/html": [
       "<div>\n",
       "<style scoped>\n",
       "    .dataframe tbody tr th:only-of-type {\n",
       "        vertical-align: middle;\n",
       "    }\n",
       "\n",
       "    .dataframe tbody tr th {\n",
       "        vertical-align: top;\n",
       "    }\n",
       "\n",
       "    .dataframe thead th {\n",
       "        text-align: right;\n",
       "    }\n",
       "</style>\n",
       "<table border=\"1\" class=\"dataframe\">\n",
       "  <thead>\n",
       "    <tr style=\"text-align: right;\">\n",
       "      <th></th>\n",
       "      <th>answer_llm</th>\n",
       "      <th>answer_orig</th>\n",
       "      <th>document</th>\n",
       "      <th>question</th>\n",
       "      <th>course</th>\n",
       "    </tr>\n",
       "  </thead>\n",
       "  <tbody>\n",
       "    <tr>\n",
       "      <th>0</th>\n",
       "      <td>You can sign up for the course by visiting the...</td>\n",
       "      <td>Machine Learning Zoomcamp FAQ\\nThe purpose of ...</td>\n",
       "      <td>0227b872</td>\n",
       "      <td>Where can I sign up for the course?</td>\n",
       "      <td>machine-learning-zoomcamp</td>\n",
       "    </tr>\n",
       "    <tr>\n",
       "      <th>1</th>\n",
       "      <td>You can sign up using the link provided in the...</td>\n",
       "      <td>Machine Learning Zoomcamp FAQ\\nThe purpose of ...</td>\n",
       "      <td>0227b872</td>\n",
       "      <td>Can you provide a link to sign up?</td>\n",
       "      <td>machine-learning-zoomcamp</td>\n",
       "    </tr>\n",
       "    <tr>\n",
       "      <th>2</th>\n",
       "      <td>Yes, there is an FAQ for the Machine Learning ...</td>\n",
       "      <td>Machine Learning Zoomcamp FAQ\\nThe purpose of ...</td>\n",
       "      <td>0227b872</td>\n",
       "      <td>Is there an FAQ for this Machine Learning course?</td>\n",
       "      <td>machine-learning-zoomcamp</td>\n",
       "    </tr>\n",
       "    <tr>\n",
       "      <th>3</th>\n",
       "      <td>The context does not provide any specific info...</td>\n",
       "      <td>Machine Learning Zoomcamp FAQ\\nThe purpose of ...</td>\n",
       "      <td>0227b872</td>\n",
       "      <td>Does this course have a GitHub repository for ...</td>\n",
       "      <td>machine-learning-zoomcamp</td>\n",
       "    </tr>\n",
       "    <tr>\n",
       "      <th>4</th>\n",
       "      <td>To structure your questions and answers for th...</td>\n",
       "      <td>Machine Learning Zoomcamp FAQ\\nThe purpose of ...</td>\n",
       "      <td>0227b872</td>\n",
       "      <td>How can I structure my questions and answers f...</td>\n",
       "      <td>machine-learning-zoomcamp</td>\n",
       "    </tr>\n",
       "  </tbody>\n",
       "</table>\n",
       "</div>"
      ],
      "text/plain": [
       "                                          answer_llm  \\\n",
       "0  You can sign up for the course by visiting the...   \n",
       "1  You can sign up using the link provided in the...   \n",
       "2  Yes, there is an FAQ for the Machine Learning ...   \n",
       "3  The context does not provide any specific info...   \n",
       "4  To structure your questions and answers for th...   \n",
       "\n",
       "                                         answer_orig  document  \\\n",
       "0  Machine Learning Zoomcamp FAQ\\nThe purpose of ...  0227b872   \n",
       "1  Machine Learning Zoomcamp FAQ\\nThe purpose of ...  0227b872   \n",
       "2  Machine Learning Zoomcamp FAQ\\nThe purpose of ...  0227b872   \n",
       "3  Machine Learning Zoomcamp FAQ\\nThe purpose of ...  0227b872   \n",
       "4  Machine Learning Zoomcamp FAQ\\nThe purpose of ...  0227b872   \n",
       "\n",
       "                                            question  \\\n",
       "0                Where can I sign up for the course?   \n",
       "1                 Can you provide a link to sign up?   \n",
       "2  Is there an FAQ for this Machine Learning course?   \n",
       "3  Does this course have a GitHub repository for ...   \n",
       "4  How can I structure my questions and answers f...   \n",
       "\n",
       "                      course  \n",
       "0  machine-learning-zoomcamp  \n",
       "1  machine-learning-zoomcamp  \n",
       "2  machine-learning-zoomcamp  \n",
       "3  machine-learning-zoomcamp  \n",
       "4  machine-learning-zoomcamp  "
      ]
     },
     "execution_count": 1,
     "metadata": {},
     "output_type": "execute_result"
    }
   ],
   "source": [
    "import pandas as pd\n",
    "\n",
    "df_gpt4o_mini = pd.read_csv('data/results-gpt4o-mini.csv')\n",
    "df = df_gpt4o_mini.iloc[:300]\n",
    "df.head()"
   ]
  },
  {
   "cell_type": "markdown",
   "id": "35339e31-bf64-4524-85bb-fa0dd2b199a1",
   "metadata": {},
   "source": [
    "# Q1. Getting the embeddings model"
   ]
  },
  {
   "cell_type": "code",
   "execution_count": 2,
   "id": "d4a6aad5-c9d1-407c-b453-72fb5ec3bf61",
   "metadata": {},
   "outputs": [
    {
     "name": "stderr",
     "output_type": "stream",
     "text": [
      "/home/vscode/.local/share/virtualenvs/llm-zoomcamp-2024-06-AewTI3k1/lib/python3.12/site-packages/sentence_transformers/cross_encoder/CrossEncoder.py:11: TqdmExperimentalWarning: Using `tqdm.autonotebook.tqdm` in notebook mode. Use `tqdm.tqdm` instead to force console mode (e.g. in jupyter console)\n",
      "  from tqdm.autonotebook import tqdm, trange\n"
     ]
    }
   ],
   "source": [
    "from sentence_transformers import SentenceTransformer\n",
    "\n",
    "model_name = 'multi-qa-mpnet-base-dot-v1'\n",
    "model = SentenceTransformer(model_name)"
   ]
  },
  {
   "cell_type": "code",
   "execution_count": 4,
   "id": "44ed3420-0391-48a8-8001-ecb6c8af6d0d",
   "metadata": {},
   "outputs": [],
   "source": [
    "answer_llm = df.iloc[0].answer_llm"
   ]
  },
  {
   "cell_type": "markdown",
   "id": "381b08e2-3676-4b61-b69b-7447f1c6ec0f",
   "metadata": {},
   "source": [
    "## Q1 Solution"
   ]
  },
  {
   "cell_type": "code",
   "execution_count": 5,
   "id": "c2534219-3ba2-450c-af08-ca3f848e21e6",
   "metadata": {},
   "outputs": [
    {
     "data": {
      "text/plain": [
       "array([-4.22446430e-01, -2.24856049e-01, -3.24058473e-01, -2.84758627e-01,\n",
       "        7.25684036e-03,  1.01186633e-01,  1.03716515e-01, -1.89983338e-01,\n",
       "       -2.80601084e-02,  2.71588773e-01, -1.15337394e-01,  1.14666238e-01,\n",
       "       -8.49588290e-02,  3.32365125e-01,  5.52724749e-02, -2.22195625e-01,\n",
       "       -1.42541066e-01,  1.02519169e-01, -1.52333736e-01, -2.02912390e-01,\n",
       "        1.98425800e-02,  8.38148370e-02, -5.68631828e-01,  2.32843328e-02,\n",
       "       -1.67293012e-01, -2.39256814e-01, -8.05461258e-02,  2.57084910e-02,\n",
       "       -8.15466940e-02, -7.39289895e-02, -2.61550218e-01,  1.92574356e-02,\n",
       "        3.22909087e-01,  1.90357015e-01, -9.34726413e-05, -2.13165745e-01,\n",
       "        2.88944189e-02, -1.79530494e-02, -5.92763498e-02,  1.99918285e-01,\n",
       "       -4.75169867e-02,  1.71633631e-01, -2.45911796e-02, -9.38056931e-02,\n",
       "       -3.57002854e-01,  1.33263797e-01,  1.94046006e-01, -1.18530825e-01,\n",
       "        4.56915170e-01,  1.47728220e-01,  3.35945159e-01, -1.86959490e-01,\n",
       "        2.45954573e-01, -1.07774466e-01, -1.80859804e-01,  1.18171886e-01,\n",
       "        7.27293417e-02,  2.78034180e-01,  4.16389018e-01, -1.66038305e-01,\n",
       "       -1.28587633e-01,  3.40979695e-01, -5.31823300e-02,  2.86053531e-02,\n",
       "        2.70213366e-01,  1.59813333e-02,  5.30229807e-01, -4.24391419e-01,\n",
       "        4.41499949e-02,  1.12921692e-01,  5.93987167e-01,  1.31700620e-01,\n",
       "        7.96346646e-03, -9.32338741e-03,  2.07376808e-01,  9.57207158e-02,\n",
       "       -1.83128476e-01,  1.22415811e-01, -2.01750457e-01,  3.12428623e-01,\n",
       "       -5.54994605e-02, -2.87764549e-01, -1.73390612e-01,  1.55470744e-01,\n",
       "        1.19510787e-02,  3.49037021e-01, -8.38187858e-02, -1.50645703e-01,\n",
       "        5.33233844e-02, -1.06787860e-01,  1.13244809e-01,  3.14916104e-01,\n",
       "       -2.95603788e-03,  4.66762304e-01, -1.56012997e-01, -3.61533761e-01,\n",
       "        3.31573971e-02,  2.06269398e-01, -1.06714033e-01, -5.01033477e-02,\n",
       "        1.83970213e-01, -1.39950709e-02,  2.16501400e-01,  1.41000330e-01,\n",
       "        1.90432042e-01, -3.77752960e-01,  8.65837783e-02, -9.80309397e-02,\n",
       "        2.32716650e-01,  2.01483369e-02, -9.70340073e-02,  1.01333268e-01,\n",
       "       -1.72074735e-01, -1.49902269e-01, -2.79156595e-01,  4.38269019e-01,\n",
       "       -1.79244161e-01, -5.75873256e-02, -7.84666091e-02, -3.23518217e-01,\n",
       "       -2.88021624e-01,  1.18698619e-01,  8.74242634e-02,  2.05323279e-01,\n",
       "       -4.80113104e-02, -5.71199544e-02, -2.83935703e-02, -3.82445902e-02,\n",
       "       -2.26608217e-01, -6.20819256e-02, -8.28166679e-02,  3.57217163e-01,\n",
       "       -1.73984274e-01, -2.00290635e-01,  2.40433693e-01,  2.16891527e-01,\n",
       "       -6.78277090e-02,  1.77686036e-01, -7.99789187e-03,  2.68137664e-01,\n",
       "        1.61456436e-01,  3.94612342e-01,  8.85781720e-02,  2.40580872e-01,\n",
       "       -2.59228260e-03, -3.16258073e-01, -2.44215176e-01,  3.14837754e-01,\n",
       "       -1.19753622e-01,  2.73651499e-02, -1.63026556e-01, -1.62029844e-02,\n",
       "       -3.58390175e-02,  3.33116144e-01,  5.83249331e-01, -2.79058367e-01,\n",
       "        4.58128631e-01,  4.30684805e-01, -9.04695690e-02, -9.46647003e-02,\n",
       "       -4.69527282e-02,  1.82061315e-01,  1.93518162e-01, -5.74657731e-02,\n",
       "        5.64570539e-02,  6.01404570e-02, -2.71578372e-01,  3.31837833e-02,\n",
       "       -2.93490559e-01,  8.48193541e-02,  1.16654985e-01, -3.32125723e-02,\n",
       "       -9.28958654e-02,  8.89663100e-02,  4.50674165e-03, -1.12345628e-01,\n",
       "        2.86366880e-01, -4.58182991e-01,  2.24826217e-01, -1.59531087e-01,\n",
       "       -3.91897149e-02, -4.82417554e-01,  2.00283810e-01,  5.05796522e-02,\n",
       "       -7.37684146e-02, -2.89327484e-02,  5.19142710e-02,  2.53143787e-01,\n",
       "       -1.18403256e-01, -3.78103869e-05, -1.42481620e-03,  8.79566222e-02,\n",
       "       -1.54602602e-01,  1.39947668e-01, -1.63175777e-01, -2.27565169e-01,\n",
       "        2.43589133e-02,  1.83513567e-01,  2.09395945e-01,  6.44881558e-03,\n",
       "       -1.67489171e-01,  2.13646695e-01, -9.41734612e-02, -1.58162676e-02,\n",
       "       -8.20813775e-02, -1.83308706e-01,  2.60268211e-01, -5.81486881e-01,\n",
       "       -1.88392982e-01,  4.93148535e-01,  1.71536684e-01, -1.94944039e-01,\n",
       "       -2.98338253e-02, -1.10752031e-01,  1.75626010e-01, -2.15449050e-01,\n",
       "        3.90823185e-01, -4.05667728e-04,  1.63337931e-01, -1.30663827e-01,\n",
       "       -1.60531744e-01, -1.78250521e-01,  1.44646525e-01, -5.53421229e-02,\n",
       "       -2.84334868e-01, -2.52671778e-01, -2.86734641e-01,  7.28116408e-02,\n",
       "        1.01622403e-01,  2.40730390e-01,  2.70243019e-01, -2.02046126e-01,\n",
       "        3.18083942e-01,  2.44049892e-01, -1.42584249e-01,  8.29215944e-02,\n",
       "        4.85364459e-02,  2.96781123e-01,  4.12520736e-01, -3.14378768e-01,\n",
       "       -1.16969623e-01,  6.29205927e-02,  7.08068460e-02,  2.58253694e-01,\n",
       "       -1.14310691e-02,  4.45277482e-01,  1.21435925e-01, -1.32654026e-01,\n",
       "       -7.34768808e-02,  1.45818874e-01,  8.71954486e-02,  3.29194553e-02,\n",
       "       -1.06550440e-01,  1.32414892e-01,  5.37194014e-02,  1.55813411e-01,\n",
       "       -3.02489065e-02, -1.43763840e-01, -2.87022263e-01,  2.91071713e-01,\n",
       "        1.64530203e-01, -1.11769639e-01,  2.36827210e-01, -3.21419984e-01,\n",
       "       -1.66114420e-01, -1.28119662e-02,  3.42823297e-01, -1.29733875e-01,\n",
       "       -8.64385664e-02,  8.01283866e-02,  2.09743306e-01, -1.31370798e-01,\n",
       "       -4.56720382e-01, -2.07562491e-01,  2.11608723e-01, -1.06122583e-01,\n",
       "       -7.91288689e-02, -1.07585669e-01, -3.71915042e-01, -7.27091804e-02,\n",
       "       -1.18881106e-01, -8.83409977e-02, -1.14616090e-02, -1.38135493e-01,\n",
       "       -2.01837316e-01, -4.67054658e-02, -9.99320894e-02, -2.49767616e-01,\n",
       "        2.34003767e-01, -3.08610916e-01,  5.94543964e-02, -1.53505355e-01,\n",
       "        2.65017688e-01,  3.01995571e-03, -1.05428837e-01,  1.93159446e-01,\n",
       "        3.11239809e-01,  3.94329786e-01, -1.93250924e-02,  4.99086589e-01,\n",
       "        1.55237447e-02, -1.99357525e-01,  5.28345990e-04,  4.31942135e-01,\n",
       "        7.14850565e-03, -1.23075992e-01,  8.09206814e-03, -1.80045724e-01,\n",
       "        6.30260725e-03, -3.00479550e-02, -3.72297019e-01,  1.83589637e-01,\n",
       "        2.57175773e-01, -1.55411988e-01,  1.24235451e-01,  1.37525424e-01,\n",
       "       -1.35490775e-01,  3.29676084e-02, -9.26110521e-02, -5.65364957e-01,\n",
       "        2.80105565e-02, -2.07517557e-02, -1.69507161e-01, -2.20879525e-01,\n",
       "       -2.19279274e-01, -2.83492178e-01, -4.83235896e-01, -3.42599422e-01,\n",
       "       -9.17720646e-02,  2.96830475e-01, -5.98647958e-03,  6.14566430e-02,\n",
       "       -1.05392456e-01,  1.58028632e-01,  4.33736145e-02,  2.40767553e-01,\n",
       "       -3.02058876e-01, -2.03180343e-01,  3.31530213e-01, -3.77642125e-01,\n",
       "       -2.81263381e-01,  1.91836059e-01, -1.27188027e-01,  1.78841665e-01,\n",
       "       -2.64506549e-01,  1.23102609e-02, -1.61026627e-01,  1.34970114e-01,\n",
       "       -8.89989510e-02, -4.67517301e-02,  4.90024030e-01,  7.38454387e-02,\n",
       "       -1.30986512e-01, -3.05826962e-01, -1.67545617e-01,  1.94467902e-01,\n",
       "        1.63925320e-01,  1.95639402e-01,  2.50460058e-01, -4.28531021e-01,\n",
       "        3.45192105e-03, -2.58735806e-01,  5.29080689e-01, -3.74270111e-01,\n",
       "        1.52395800e-01, -1.04267634e-01,  5.28327897e-02,  6.97045848e-02,\n",
       "        3.10416341e-01,  1.34908915e-01, -1.46409512e-01,  8.79697502e-02,\n",
       "       -2.16057286e-01, -5.98195149e-03,  1.46351591e-01,  1.00754827e-01,\n",
       "       -3.56721252e-01,  2.37128899e-01, -2.08308265e-01, -1.37767732e-01,\n",
       "        1.87475204e-01, -1.37022033e-01,  1.79654226e-01,  9.50280130e-02,\n",
       "        3.05512935e-01, -2.35110591e-03, -5.99397756e-02,  3.43031228e-01,\n",
       "        2.22358406e-01,  3.86910886e-01, -4.61393967e-02, -5.23233354e-01,\n",
       "       -1.88939542e-01, -3.29888947e-02,  1.58315852e-01, -6.72145188e-02,\n",
       "        1.70431331e-01, -1.60779819e-01, -1.32888496e-01,  1.94981843e-01,\n",
       "       -7.49425292e-02,  1.33112520e-01, -3.46184038e-02, -3.98089141e-02,\n",
       "        1.55842677e-01,  7.61214718e-02,  6.12080172e-02,  1.30054161e-01,\n",
       "       -4.20598626e-01, -8.50357488e-02,  7.93765411e-02,  1.17576770e-01,\n",
       "        1.19345076e-02, -8.69078003e-03,  1.18011691e-01, -3.85569304e-01,\n",
       "       -1.99203849e-01,  3.17576289e-01,  6.12187721e-02, -1.49612054e-01,\n",
       "       -8.59780386e-02, -3.21721509e-02,  1.85915381e-01, -1.35080546e-01,\n",
       "        3.26779753e-01,  1.11499369e-01,  2.00125098e-01, -1.81170419e-01,\n",
       "        9.46191140e-03,  2.59241849e-01, -8.62892568e-02,  1.24218091e-01,\n",
       "       -2.26192102e-01,  1.87308267e-01, -6.76105320e-02,  1.09886952e-01,\n",
       "        7.81962946e-02,  1.59898818e-01,  4.34802435e-02,  3.77582103e-01,\n",
       "        2.00295448e-02,  3.12313080e-01,  3.17892194e-01,  3.18765454e-02,\n",
       "        1.84716791e-01,  1.02976531e-01, -1.29829142e-02, -5.33965707e-01,\n",
       "       -4.15465934e-03, -9.74934399e-02,  2.92787939e-01, -1.68569535e-02,\n",
       "       -3.65060985e-01,  2.62162894e-01, -1.99976519e-01, -1.79652050e-01,\n",
       "       -6.74351603e-02, -7.36470520e-02,  7.99741689e-03, -8.52295160e-02,\n",
       "        3.02015841e-01,  7.65381634e-01,  1.86538011e-01,  9.91608948e-02,\n",
       "       -3.15706283e-02, -2.39601508e-01,  3.49766046e-01, -3.79434913e-01,\n",
       "        4.37371254e-01, -3.03044915e-01,  3.50982882e-02, -1.36655513e-02,\n",
       "       -3.92120667e-02,  1.74251124e-01,  2.19215944e-01,  3.65048796e-02,\n",
       "        1.70673221e-01,  1.96939424e-01, -1.31071433e-01, -4.28891554e-02,\n",
       "        1.75453290e-01, -4.72445488e-02,  6.98637664e-02,  3.11694071e-02,\n",
       "        3.22514117e-01,  4.49009269e-01,  1.86776400e-01, -1.16197858e-02,\n",
       "       -1.47021413e-01, -2.00406358e-01,  7.67491758e-02, -1.27667487e-01,\n",
       "       -6.29128143e-02, -4.80403960e-01,  1.54105425e-01, -9.61345658e-02,\n",
       "       -2.31544957e-01,  3.21779437e-02, -2.23329127e-01, -9.49442945e-03,\n",
       "        1.23602420e-01, -1.67446434e-01,  2.84746230e-01,  1.42774200e-02,\n",
       "       -2.71190792e-01, -3.30283433e-01,  3.32764059e-01,  1.96248263e-01,\n",
       "       -2.55561173e-01,  1.17187515e-01,  4.77881253e-01, -4.56430241e-02,\n",
       "       -1.86917499e-01, -2.67586440e-01,  1.55057147e-01,  4.42823201e-01,\n",
       "        3.23591888e-01,  2.25058749e-01,  4.15324420e-02, -2.00824693e-01,\n",
       "        1.77915290e-01,  3.05669039e-01,  2.31600463e-01, -3.19246858e-01,\n",
       "       -1.18139230e-01,  1.34351552e-01,  2.80499250e-01, -2.21151561e-01,\n",
       "        5.30993380e-02,  1.29903302e-01,  6.53692931e-02, -1.18019078e-02,\n",
       "        6.73175901e-02,  8.00404400e-02, -5.13182640e-01, -5.82333431e-02,\n",
       "        6.54615611e-02,  2.76209533e-01, -1.83693934e-02,  2.94542134e-01,\n",
       "       -3.07799220e-01,  1.83834210e-01,  1.59030959e-01,  4.07142162e-01,\n",
       "       -1.66562885e-01, -4.79783446e-01, -2.10012108e-01, -4.13605779e-01,\n",
       "        5.92364892e-02,  1.54404357e-01,  6.58281322e-04,  2.10360795e-01,\n",
       "        2.83089817e-01,  3.63211960e-01,  1.09330401e-01, -5.22614598e-01,\n",
       "       -1.22006819e-01,  1.48912463e-02,  8.16332251e-02,  9.79118794e-02,\n",
       "       -1.71466514e-01, -1.19786084e-01,  3.07113796e-01,  2.41554037e-01,\n",
       "        1.07853517e-01, -1.99582577e-01, -3.44078869e-01, -6.04018606e-02,\n",
       "        5.21589927e-02,  3.28597464e-02, -3.27357557e-03,  1.36293650e-01,\n",
       "       -3.81059982e-02, -2.55616546e-01,  1.35476306e-01, -2.36675650e-01,\n",
       "       -4.05685127e-01,  2.38534018e-01,  4.29497883e-02,  1.72242671e-02,\n",
       "       -2.48771474e-01, -5.33274598e-02, -3.07873897e-02,  5.81806339e-02,\n",
       "       -1.23233244e-01,  2.18566842e-02,  2.29185805e-01,  9.34012309e-02,\n",
       "       -2.54486620e-01, -1.76821083e-01,  1.78003743e-01, -1.88910246e-01,\n",
       "       -2.32188702e-01,  1.38992444e-01,  8.63835961e-02,  1.66123062e-01,\n",
       "       -1.26167893e-01,  4.47002947e-02, -2.57218885e-03,  9.59315747e-02,\n",
       "        1.70473859e-01,  4.11356874e-02,  3.73511255e-01, -2.45750919e-01,\n",
       "        8.69027898e-02, -3.60793442e-01, -1.35019988e-01,  2.28721827e-01,\n",
       "        5.50215468e-02,  2.56112725e-01, -2.00422276e-02,  1.00339264e-01,\n",
       "        2.35082358e-02, -5.19266948e-02,  1.96859151e-01, -3.61513637e-04,\n",
       "        3.07785809e-01, -1.46380275e-01,  9.31805968e-02,  1.40383616e-01,\n",
       "        1.81080047e-02, -1.38114393e-01,  4.64577861e-02,  5.93974926e-02,\n",
       "        4.88916859e-02,  2.51312584e-01, -8.47731009e-02,  7.51710907e-02,\n",
       "        1.41401002e-02,  3.21199417e-01,  1.87376767e-01,  3.38847756e-01,\n",
       "        1.51105121e-01,  3.21048230e-01,  1.62717253e-01, -4.25226629e-01,\n",
       "       -3.60833466e-01,  4.96278554e-02,  1.51703283e-01, -2.27194622e-01,\n",
       "       -1.19753875e-01, -2.01471187e-02, -2.40545958e-01,  5.62720634e-02,\n",
       "        3.93155217e-02,  1.62902683e-01,  4.60216664e-02,  1.69599101e-01,\n",
       "       -1.60548165e-01, -2.60222494e-03, -9.23942849e-02, -4.32310641e-01,\n",
       "        9.29699913e-02,  3.15057665e-01,  1.51553117e-02,  4.36366051e-02,\n",
       "       -2.50602484e-01, -8.28459263e-02,  1.22859277e-01,  3.40397879e-02,\n",
       "        1.75263107e-01, -1.60563499e-01, -3.39263916e-01,  8.57213959e-02,\n",
       "        7.73872957e-02, -1.93213850e-01,  1.34666294e-01,  3.19218868e-03,\n",
       "        2.99941987e-01, -2.12175250e-02,  1.68446466e-01,  3.32506210e-01,\n",
       "       -2.90307105e-01, -2.65653823e-02,  1.57835856e-01, -1.45968407e-01,\n",
       "        1.02216601e-01, -3.66670847e-01, -1.05406739e-01,  8.61349255e-02,\n",
       "       -2.02301502e-01,  3.80771495e-02, -1.82997659e-01, -1.71337679e-01,\n",
       "       -1.67108357e-01, -4.81708199e-01, -3.76029834e-02, -2.37805486e-01,\n",
       "        1.88101441e-01, -5.88413328e-02,  5.97653747e-01,  2.54528672e-01,\n",
       "        3.43904272e-02,  3.61725986e-02, -3.01713020e-01, -3.13886613e-01,\n",
       "       -2.44421177e-02,  3.54956724e-02, -1.56710297e-01, -3.16900939e-01,\n",
       "        2.10859943e-02,  2.57125020e-01,  4.08265352e-01,  1.50323272e-01,\n",
       "       -6.00396655e-03, -1.62305430e-01,  3.02281916e-01, -2.29149416e-01,\n",
       "        1.85533434e-01,  9.38913450e-02,  4.12929356e-02, -1.50900722e-01,\n",
       "       -1.33866891e-01,  2.03006476e-01, -2.04596952e-01,  3.01504284e-01,\n",
       "        2.38587067e-01,  6.47758245e-02,  1.75632879e-01,  2.81314313e-01,\n",
       "        1.58511937e-01,  2.10807123e-03,  3.89198571e-01, -2.64083505e-01,\n",
       "       -2.38809571e-01,  2.06713215e-01,  1.16575874e-01, -1.77012831e-01,\n",
       "       -2.77639143e-02,  1.83658868e-01,  2.25405887e-01, -8.78797621e-02,\n",
       "       -1.43584937e-01,  2.10636452e-01,  1.69541121e-01, -5.84742054e-04,\n",
       "       -3.66571620e-02, -3.57495606e-01,  2.06115395e-01, -1.50764793e-01,\n",
       "       -8.18621740e-02,  3.86622585e-02,  1.66414604e-01,  1.40702818e-02,\n",
       "       -2.76515543e-01, -1.28965631e-01, -6.98804408e-02,  2.13923290e-01,\n",
       "       -2.81380534e-01, -3.66244130e-02, -1.43628955e-01,  6.90277964e-02,\n",
       "       -7.71773979e-02,  1.96926773e-01, -2.78328627e-01, -4.52037975e-02,\n",
       "       -1.19244665e-01, -3.84129673e-01,  8.88783559e-02,  4.29855406e-01,\n",
       "        2.08253026e-01, -3.37735057e-01, -2.85533577e-01,  9.70598385e-02,\n",
       "        2.04244524e-01, -6.10271953e-02, -1.66054353e-01, -2.67020464e-01],\n",
       "      dtype=float32)"
      ]
     },
     "execution_count": 5,
     "metadata": {},
     "output_type": "execute_result"
    }
   ],
   "source": [
    "model.encode(answer_llm)"
   ]
  },
  {
   "cell_type": "markdown",
   "id": "ce0ef5fa-581d-4cd0-84f1-e610c457920d",
   "metadata": {},
   "source": [
    "# Q2. Computing the dot product"
   ]
  },
  {
   "cell_type": "code",
   "execution_count": 6,
   "id": "0fda16c0-f159-4ded-9583-1b70dea27431",
   "metadata": {},
   "outputs": [],
   "source": [
    "results_gpt4o_mini = df.to_dict(orient='records')"
   ]
  },
  {
   "cell_type": "code",
   "execution_count": 9,
   "id": "02eafe75-00c0-4c36-89e1-cfcf3e3cb988",
   "metadata": {},
   "outputs": [],
   "source": [
    "from tqdm.auto import tqdm\n",
    "\n",
    "def compute_similarity(record):\n",
    "    answer_orig = record['answer_orig']\n",
    "    answer_llm = record['answer_llm']\n",
    "\n",
    "    v_orig = model.encode(answer_orig)\n",
    "    v_llm = model.encode(answer_llm)\n",
    "\n",
    "    return v_llm.dot(v_orig)\n",
    "\n",
    "\n",
    "similarities = []"
   ]
  },
  {
   "cell_type": "code",
   "execution_count": 10,
   "id": "caa26773-6833-4294-9a5a-99bb234c4870",
   "metadata": {},
   "outputs": [
    {
     "data": {
      "application/vnd.jupyter.widget-view+json": {
       "model_id": "1bbc883147794c22bf7da8c9bdd76001",
       "version_major": 2,
       "version_minor": 0
      },
      "text/plain": [
       "  0%|          | 0/300 [00:00<?, ?it/s]"
      ]
     },
     "metadata": {},
     "output_type": "display_data"
    }
   ],
   "source": [
    "for record in tqdm(results_gpt4o_mini):\n",
    "    similarity = compute_similarity(record)\n",
    "    similarities.append(similarity)"
   ]
  },
  {
   "cell_type": "code",
   "execution_count": 11,
   "id": "b33e76ca-504e-471b-ad28-b36d80cff655",
   "metadata": {},
   "outputs": [
    {
     "name": "stderr",
     "output_type": "stream",
     "text": [
      "/tmp/ipykernel_75017/1207601632.py:1: SettingWithCopyWarning: \n",
      "A value is trying to be set on a copy of a slice from a DataFrame.\n",
      "Try using .loc[row_indexer,col_indexer] = value instead\n",
      "\n",
      "See the caveats in the documentation: https://pandas.pydata.org/pandas-docs/stable/user_guide/indexing.html#returning-a-view-versus-a-copy\n",
      "  df['cosine'] = similarities\n"
     ]
    },
    {
     "data": {
      "text/plain": [
       "count    300.000000\n",
       "mean      27.495996\n",
       "std        6.384742\n",
       "min        4.547927\n",
       "25%       24.307843\n",
       "50%       28.336865\n",
       "75%       31.674307\n",
       "max       39.476013\n",
       "Name: cosine, dtype: float64"
      ]
     },
     "execution_count": 11,
     "metadata": {},
     "output_type": "execute_result"
    }
   ],
   "source": [
    "df['cosine'] = similarities\n",
    "df['cosine'].describe()"
   ]
  },
  {
   "cell_type": "markdown",
   "id": "c2b16c69-0fc4-41b7-96f9-c1d43713a905",
   "metadata": {},
   "source": [
    "# Q3. Computing the cosine"
   ]
  },
  {
   "cell_type": "code",
   "execution_count": 17,
   "id": "a91503b2-72df-47af-be93-1dcda8326773",
   "metadata": {},
   "outputs": [],
   "source": [
    "import numpy as np\n",
    "\n",
    "def compute_similarity_norm(record):\n",
    "    answer_orig = record['answer_orig']\n",
    "    answer_llm = record['answer_llm']\n",
    "\n",
    "    v_orig = model.encode(answer_orig)\n",
    "    norm_orig = np.sqrt((v_orig * v_orig).sum())\n",
    "    v_orig_norm = v_orig / norm_orig\n",
    "    \n",
    "    v_llm = model.encode(answer_llm)\n",
    "    norm_llm = np.sqrt((v_llm * v_llm).sum())\n",
    "    v_llm_norm = v_llm / norm_llm\n",
    "\n",
    "    return v_llm_norm.dot(v_orig_norm)\n",
    "\n",
    "similarities_norm = []"
   ]
  },
  {
   "cell_type": "code",
   "execution_count": 18,
   "id": "5a8f45b9-383e-49df-92ca-a51088a5f4b2",
   "metadata": {},
   "outputs": [
    {
     "data": {
      "application/vnd.jupyter.widget-view+json": {
       "model_id": "5100539455814e4ebbfe53bdde6ab044",
       "version_major": 2,
       "version_minor": 0
      },
      "text/plain": [
       "  0%|          | 0/300 [00:00<?, ?it/s]"
      ]
     },
     "metadata": {},
     "output_type": "display_data"
    }
   ],
   "source": [
    "for record in tqdm(results_gpt4o_mini):\n",
    "    similarity = compute_similarity_norm(record)\n",
    "    similarities_norm.append(similarity)"
   ]
  },
  {
   "cell_type": "code",
   "execution_count": 19,
   "id": "1b4058e5-4615-4d2f-bbb8-8f8d07bca1f5",
   "metadata": {},
   "outputs": [
    {
     "name": "stderr",
     "output_type": "stream",
     "text": [
      "/tmp/ipykernel_75017/1349333933.py:1: SettingWithCopyWarning: \n",
      "A value is trying to be set on a copy of a slice from a DataFrame.\n",
      "Try using .loc[row_indexer,col_indexer] = value instead\n",
      "\n",
      "See the caveats in the documentation: https://pandas.pydata.org/pandas-docs/stable/user_guide/indexing.html#returning-a-view-versus-a-copy\n",
      "  df['cosine_norm'] = similarities_norm\n"
     ]
    },
    {
     "data": {
      "text/plain": [
       "count    300.000000\n",
       "mean       0.728392\n",
       "std        0.157755\n",
       "min        0.125357\n",
       "25%        0.651273\n",
       "50%        0.763761\n",
       "75%        0.836235\n",
       "max        0.958796\n",
       "Name: cosine_norm, dtype: float64"
      ]
     },
     "execution_count": 19,
     "metadata": {},
     "output_type": "execute_result"
    }
   ],
   "source": [
    "df['cosine_norm'] = similarities_norm\n",
    "df['cosine_norm'].describe()"
   ]
  },
  {
   "cell_type": "markdown",
   "id": "cc9b4af9-da5b-4029-8aab-ff3b48cfca48",
   "metadata": {},
   "source": [
    "# Q4. Rouge"
   ]
  },
  {
   "cell_type": "code",
   "execution_count": 17,
   "id": "62545468-88f2-46d5-b362-a64fdab7b719",
   "metadata": {},
   "outputs": [
    {
     "data": {
      "text/html": [
       "<div>\n",
       "<style scoped>\n",
       "    .dataframe tbody tr th:only-of-type {\n",
       "        vertical-align: middle;\n",
       "    }\n",
       "\n",
       "    .dataframe tbody tr th {\n",
       "        vertical-align: top;\n",
       "    }\n",
       "\n",
       "    .dataframe thead th {\n",
       "        text-align: right;\n",
       "    }\n",
       "</style>\n",
       "<table border=\"1\" class=\"dataframe\">\n",
       "  <thead>\n",
       "    <tr style=\"text-align: right;\">\n",
       "      <th></th>\n",
       "      <th>answer_llm</th>\n",
       "      <th>answer_orig</th>\n",
       "      <th>document</th>\n",
       "      <th>question</th>\n",
       "      <th>course</th>\n",
       "    </tr>\n",
       "  </thead>\n",
       "  <tbody>\n",
       "    <tr>\n",
       "      <th>0</th>\n",
       "      <td>You can sign up for the course by visiting the...</td>\n",
       "      <td>Machine Learning Zoomcamp FAQ\\nThe purpose of ...</td>\n",
       "      <td>0227b872</td>\n",
       "      <td>Where can I sign up for the course?</td>\n",
       "      <td>machine-learning-zoomcamp</td>\n",
       "    </tr>\n",
       "    <tr>\n",
       "      <th>1</th>\n",
       "      <td>You can sign up using the link provided in the...</td>\n",
       "      <td>Machine Learning Zoomcamp FAQ\\nThe purpose of ...</td>\n",
       "      <td>0227b872</td>\n",
       "      <td>Can you provide a link to sign up?</td>\n",
       "      <td>machine-learning-zoomcamp</td>\n",
       "    </tr>\n",
       "    <tr>\n",
       "      <th>2</th>\n",
       "      <td>Yes, there is an FAQ for the Machine Learning ...</td>\n",
       "      <td>Machine Learning Zoomcamp FAQ\\nThe purpose of ...</td>\n",
       "      <td>0227b872</td>\n",
       "      <td>Is there an FAQ for this Machine Learning course?</td>\n",
       "      <td>machine-learning-zoomcamp</td>\n",
       "    </tr>\n",
       "    <tr>\n",
       "      <th>3</th>\n",
       "      <td>The context does not provide any specific info...</td>\n",
       "      <td>Machine Learning Zoomcamp FAQ\\nThe purpose of ...</td>\n",
       "      <td>0227b872</td>\n",
       "      <td>Does this course have a GitHub repository for ...</td>\n",
       "      <td>machine-learning-zoomcamp</td>\n",
       "    </tr>\n",
       "    <tr>\n",
       "      <th>4</th>\n",
       "      <td>To structure your questions and answers for th...</td>\n",
       "      <td>Machine Learning Zoomcamp FAQ\\nThe purpose of ...</td>\n",
       "      <td>0227b872</td>\n",
       "      <td>How can I structure my questions and answers f...</td>\n",
       "      <td>machine-learning-zoomcamp</td>\n",
       "    </tr>\n",
       "  </tbody>\n",
       "</table>\n",
       "</div>"
      ],
      "text/plain": [
       "                                          answer_llm  \\\n",
       "0  You can sign up for the course by visiting the...   \n",
       "1  You can sign up using the link provided in the...   \n",
       "2  Yes, there is an FAQ for the Machine Learning ...   \n",
       "3  The context does not provide any specific info...   \n",
       "4  To structure your questions and answers for th...   \n",
       "\n",
       "                                         answer_orig  document  \\\n",
       "0  Machine Learning Zoomcamp FAQ\\nThe purpose of ...  0227b872   \n",
       "1  Machine Learning Zoomcamp FAQ\\nThe purpose of ...  0227b872   \n",
       "2  Machine Learning Zoomcamp FAQ\\nThe purpose of ...  0227b872   \n",
       "3  Machine Learning Zoomcamp FAQ\\nThe purpose of ...  0227b872   \n",
       "4  Machine Learning Zoomcamp FAQ\\nThe purpose of ...  0227b872   \n",
       "\n",
       "                                            question  \\\n",
       "0                Where can I sign up for the course?   \n",
       "1                 Can you provide a link to sign up?   \n",
       "2  Is there an FAQ for this Machine Learning course?   \n",
       "3  Does this course have a GitHub repository for ...   \n",
       "4  How can I structure my questions and answers f...   \n",
       "\n",
       "                      course  \n",
       "0  machine-learning-zoomcamp  \n",
       "1  machine-learning-zoomcamp  \n",
       "2  machine-learning-zoomcamp  \n",
       "3  machine-learning-zoomcamp  \n",
       "4  machine-learning-zoomcamp  "
      ]
     },
     "execution_count": 17,
     "metadata": {},
     "output_type": "execute_result"
    }
   ],
   "source": [
    "df.head()"
   ]
  },
  {
   "cell_type": "code",
   "execution_count": 19,
   "id": "3fd4c146-d269-42be-8f5e-accbbfb8d3f4",
   "metadata": {},
   "outputs": [
    {
     "data": {
      "text/plain": [
       "answer_llm     Yes, all sessions are recorded, so if you miss...\n",
       "answer_orig    Everything is recorded, so you won’t miss anyt...\n",
       "document                                                5170565b\n",
       "question                    Are sessions recorded if I miss one?\n",
       "course                                 machine-learning-zoomcamp\n",
       "Name: 10, dtype: object"
      ]
     },
     "execution_count": 19,
     "metadata": {},
     "output_type": "execute_result"
    }
   ],
   "source": [
    "#df[df['document'] == '5170565b'].head()\n",
    "df.iloc[10]"
   ]
  },
  {
   "cell_type": "code",
   "execution_count": 21,
   "id": "9e87b7f4-e38f-4bc9-8579-f723539e13c6",
   "metadata": {},
   "outputs": [
    {
     "data": {
      "text/plain": [
       "{'rouge-1': {'r': 0.45454545454545453,\n",
       "  'p': 0.45454545454545453,\n",
       "  'f': 0.45454544954545456},\n",
       " 'rouge-2': {'r': 0.21621621621621623,\n",
       "  'p': 0.21621621621621623,\n",
       "  'f': 0.21621621121621637},\n",
       " 'rouge-l': {'r': 0.3939393939393939,\n",
       "  'p': 0.3939393939393939,\n",
       "  'f': 0.393939388939394}}"
      ]
     },
     "execution_count": 21,
     "metadata": {},
     "output_type": "execute_result"
    }
   ],
   "source": [
    "from rouge import Rouge\n",
    "\n",
    "r = df.iloc[10]\n",
    "rouge_scorer = Rouge()\n",
    "scores = rouge_scorer.get_scores(r['answer_llm'], r['answer_orig'])[0]\n",
    "scores"
   ]
  },
  {
   "cell_type": "markdown",
   "id": "daa38dbb-91d9-49a3-832d-52e7ca3b9a6b",
   "metadata": {},
   "source": [
    "# Q5. Average rouge score"
   ]
  },
  {
   "cell_type": "code",
   "execution_count": 22,
   "id": "31da72fb-42c1-43d6-8860-9842bdd4582c",
   "metadata": {},
   "outputs": [
    {
     "data": {
      "text/plain": [
       "0.35490034990035496"
      ]
     },
     "execution_count": 22,
     "metadata": {},
     "output_type": "execute_result"
    }
   ],
   "source": [
    "avg = (scores['rouge-1']['f'] + scores['rouge-2']['f'] + scores['rouge-l']['f']) / 3\n",
    "avg"
   ]
  },
  {
   "cell_type": "markdown",
   "id": "b67aadc5-d767-4ffe-a5ed-2b2e30d9f841",
   "metadata": {},
   "source": [
    "# Q6. Average rouge score for all the data points"
   ]
  },
  {
   "cell_type": "code",
   "execution_count": 26,
   "id": "5033e156-f019-4a7a-84c5-c82643f475a1",
   "metadata": {},
   "outputs": [],
   "source": [
    "from tqdm.auto import tqdm\n",
    "\n",
    "def compute_rogue_2(record):\n",
    "    answer_orig = record['answer_orig']\n",
    "    answer_llm = record['answer_llm']\n",
    "\n",
    "    scores = rouge_scorer.get_scores(answer_llm, answer_orig)[0]\n",
    "\n",
    "    return scores['rouge-2']['f']\n",
    "\n",
    "\n",
    "rogue_2 = []"
   ]
  },
  {
   "cell_type": "code",
   "execution_count": 27,
   "id": "c5ee2a69-9bb7-4b48-a34c-b3abbcd9089c",
   "metadata": {},
   "outputs": [
    {
     "data": {
      "application/vnd.jupyter.widget-view+json": {
       "model_id": "99d573ada42c446faf3adee7b77c3d4e",
       "version_major": 2,
       "version_minor": 0
      },
      "text/plain": [
       "  0%|          | 0/300 [00:00<?, ?it/s]"
      ]
     },
     "metadata": {},
     "output_type": "display_data"
    }
   ],
   "source": [
    "for record in tqdm(results_gpt4o_mini):\n",
    "    r = compute_rogue_2(record)\n",
    "    rogue_2.append(r)"
   ]
  },
  {
   "cell_type": "code",
   "execution_count": 28,
   "id": "de6179f3-89bf-45cf-8332-bb31cefdf6e7",
   "metadata": {},
   "outputs": [
    {
     "name": "stderr",
     "output_type": "stream",
     "text": [
      "/tmp/ipykernel_24201/2334522624.py:1: SettingWithCopyWarning: \n",
      "A value is trying to be set on a copy of a slice from a DataFrame.\n",
      "Try using .loc[row_indexer,col_indexer] = value instead\n",
      "\n",
      "See the caveats in the documentation: https://pandas.pydata.org/pandas-docs/stable/user_guide/indexing.html#returning-a-view-versus-a-copy\n",
      "  df['rogue_2'] = rogue_2\n"
     ]
    },
    {
     "data": {
      "text/plain": [
       "count    300.000000\n",
       "mean       0.206965\n",
       "std        0.153550\n",
       "min        0.000000\n",
       "25%        0.097809\n",
       "50%        0.178671\n",
       "75%        0.286181\n",
       "max        0.739130\n",
       "Name: rogue_2, dtype: float64"
      ]
     },
     "execution_count": 28,
     "metadata": {},
     "output_type": "execute_result"
    }
   ],
   "source": [
    "df['rogue_2'] = rogue_2\n",
    "df['rogue_2'].describe()"
   ]
  },
  {
   "cell_type": "code",
   "execution_count": null,
   "id": "14932862-abdd-4c64-ac5e-bae64f044d25",
   "metadata": {},
   "outputs": [],
   "source": []
  }
 ],
 "metadata": {
  "kernelspec": {
   "display_name": "Python 3 (ipykernel)",
   "language": "python",
   "name": "python3"
  },
  "language_info": {
   "codemirror_mode": {
    "name": "ipython",
    "version": 3
   },
   "file_extension": ".py",
   "mimetype": "text/x-python",
   "name": "python",
   "nbconvert_exporter": "python",
   "pygments_lexer": "ipython3",
   "version": "3.12.4"
  }
 },
 "nbformat": 4,
 "nbformat_minor": 5
}
