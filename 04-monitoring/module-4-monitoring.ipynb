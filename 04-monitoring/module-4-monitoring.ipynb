{
 "cells": [
  {
   "cell_type": "markdown",
   "id": "a5b696f0-7cf6-4c5b-8767-f323cb6be8e0",
   "metadata": {},
   "source": [
    "# Load ground truth"
   ]
  },
  {
   "cell_type": "code",
   "execution_count": 2,
   "id": "0c172f17-8b2f-4d95-9f4b-f58912e0e8a9",
   "metadata": {},
   "outputs": [
    {
     "data": {
      "text/plain": [
       "{'question': 'Are sessions recorded if I miss one?',\n",
       " 'course': 'machine-learning-zoomcamp',\n",
       " 'document': '5170565b'}"
      ]
     },
     "execution_count": 2,
     "metadata": {},
     "output_type": "execute_result"
    }
   ],
   "source": [
    "import pandas as pd\n",
    "\n",
    "df_ground_truth = pd.read_csv('../03-vector-search/ground-truth-data.csv')\n",
    "df_ground_truth = df_ground_truth[df_ground_truth.course == 'machine-learning-zoomcamp']\n",
    "ground_truth = df_ground_truth.to_dict(orient='records')\n",
    "ground_truth[10]"
   ]
  },
  {
   "cell_type": "markdown",
   "id": "1a5075b3-13a0-471d-970c-354d6b968a41",
   "metadata": {},
   "source": [
    "# Load documents with IDs"
   ]
  },
  {
   "cell_type": "code",
   "execution_count": 3,
   "id": "481c349a-0c4c-4950-95c5-71ee8812c129",
   "metadata": {},
   "outputs": [
    {
     "data": {
      "text/plain": [
       "{'text': 'It depends on your background and previous experience with modules. It is expected to require about 5 - 15 hours per week. [source1] [source2]\\nYou can also calculate it yourself using this data and then update this answer.',\n",
       " 'section': 'General course-related questions',\n",
       " 'question': 'Course - \\u200b\\u200bHow many hours per week am I expected to spend on this  course?',\n",
       " 'course': 'data-engineering-zoomcamp',\n",
       " 'id': 'ea739c65'}"
      ]
     },
     "execution_count": 3,
     "metadata": {},
     "output_type": "execute_result"
    }
   ],
   "source": [
    "import json\n",
    "\n",
    "with open('../03-vector-search/documents-with-ids.json', 'rt') as f_in:\n",
    "    documents = json.load(f_in)\n",
    "documents[10]"
   ]
  },
  {
   "cell_type": "code",
   "execution_count": 34,
   "id": "0f6c19ff-b6d4-4fcf-bc75-1b3a9419e290",
   "metadata": {},
   "outputs": [
    {
     "data": {
      "text/plain": [
       "'Everything is recorded, so you won’t miss anything. You will be able to ask your questions for office hours in advance and we will cover them during the live stream. Also, you can always ask questions in Slack.'"
      ]
     },
     "execution_count": 34,
     "metadata": {},
     "output_type": "execute_result"
    }
   ],
   "source": [
    "doc_idx = {d['id']: d for d in documents}\n",
    "doc_idx['5170565b']['text']"
   ]
  },
  {
   "cell_type": "markdown",
   "id": "46b261cd-9a2c-4b19-ad58-c4eaf90950a2",
   "metadata": {},
   "source": [
    "# Index data"
   ]
  },
  {
   "cell_type": "code",
   "execution_count": 4,
   "id": "432c46f3-612b-414e-9a09-0056cc769722",
   "metadata": {},
   "outputs": [
    {
     "name": "stderr",
     "output_type": "stream",
     "text": [
      "/usr/local/lib/python3.12/site-packages/sentence_transformers/cross_encoder/CrossEncoder.py:11: TqdmExperimentalWarning: Using `tqdm.autonotebook.tqdm` in notebook mode. Use `tqdm.tqdm` instead to force console mode (e.g. in jupyter console)\n",
      "  from tqdm.autonotebook import tqdm, trange\n"
     ]
    }
   ],
   "source": [
    "from sentence_transformers import SentenceTransformer\n",
    "\n",
    "model_name = 'multi-qa-MiniLM-L6-cos-v1'\n",
    "model = SentenceTransformer(model_name)"
   ]
  },
  {
   "cell_type": "code",
   "execution_count": 21,
   "id": "ac3d7f89-16a5-4b7c-9a09-6f1a3d3d4ba9",
   "metadata": {},
   "outputs": [
    {
     "data": {
      "text/plain": [
       "ObjectApiResponse({'acknowledged': True, 'shards_acknowledged': True, 'index': 'course-questions'})"
      ]
     },
     "execution_count": 21,
     "metadata": {},
     "output_type": "execute_result"
    }
   ],
   "source": [
    "from elasticsearch import Elasticsearch\n",
    "\n",
    "es_client = Elasticsearch(\"http://elasticsearch:9200\") \n",
    "\n",
    "index_settings = {\n",
    "    \"settings\": {\n",
    "        \"number_of_shards\": 1,\n",
    "        \"number_of_replicas\": 0\n",
    "    },\n",
    "    \"mappings\": {\n",
    "        \"properties\": {\n",
    "            \"text\": {\"type\": \"text\"},\n",
    "            \"section\": {\"type\": \"text\"},\n",
    "            \"question\": {\"type\": \"text\"},\n",
    "            \"course\": {\"type\": \"keyword\"},\n",
    "            \"id\": {\"type\": \"keyword\"},\n",
    "            \"question_text_vector\": {\n",
    "                \"type\": \"dense_vector\",\n",
    "                \"dims\": 384,\n",
    "                \"index\": True,\n",
    "                \"similarity\": \"cosine\"\n",
    "            },\n",
    "        }\n",
    "    }\n",
    "}\n",
    "\n",
    "index_name = \"course-questions\"\n",
    "\n",
    "es_client.indices.delete(index=index_name, ignore_unavailable=True)\n",
    "es_client.indices.create(index=index_name, body=index_settings)"
   ]
  },
  {
   "cell_type": "code",
   "execution_count": 5,
   "id": "70178fb6-cd47-4faa-bfb8-c40220fda882",
   "metadata": {},
   "outputs": [
    {
     "data": {
      "application/vnd.jupyter.widget-view+json": {
       "model_id": "8b1ddbe8c4fd4bfeb37089fb965801dc",
       "version_major": 2,
       "version_minor": 0
      },
      "text/plain": [
       "  0%|          | 0/948 [00:00<?, ?it/s]"
      ]
     },
     "metadata": {},
     "output_type": "display_data"
    },
    {
     "ename": "NameError",
     "evalue": "name 'es_client' is not defined",
     "output_type": "error",
     "traceback": [
      "\u001b[0;31m---------------------------------------------------------------------------\u001b[0m",
      "\u001b[0;31mNameError\u001b[0m                                 Traceback (most recent call last)",
      "Cell \u001b[0;32mIn[5], line 8\u001b[0m\n\u001b[1;32m      5\u001b[0m text \u001b[38;5;241m=\u001b[39m doc[\u001b[38;5;124m'\u001b[39m\u001b[38;5;124mtext\u001b[39m\u001b[38;5;124m'\u001b[39m]\n\u001b[1;32m      6\u001b[0m doc[\u001b[38;5;124m'\u001b[39m\u001b[38;5;124mquestion_text_vector\u001b[39m\u001b[38;5;124m'\u001b[39m] \u001b[38;5;241m=\u001b[39m model\u001b[38;5;241m.\u001b[39mencode(question \u001b[38;5;241m+\u001b[39m \u001b[38;5;124m'\u001b[39m\u001b[38;5;124m \u001b[39m\u001b[38;5;124m'\u001b[39m \u001b[38;5;241m+\u001b[39m text)\n\u001b[0;32m----> 8\u001b[0m \u001b[43mes_client\u001b[49m\u001b[38;5;241m.\u001b[39mindex(index\u001b[38;5;241m=\u001b[39mindex_name, document\u001b[38;5;241m=\u001b[39mdoc)\n",
      "\u001b[0;31mNameError\u001b[0m: name 'es_client' is not defined"
     ]
    }
   ],
   "source": [
    "from tqdm.auto import tqdm\n",
    "\n",
    "for doc in tqdm(documents):\n",
    "    question = doc['question']\n",
    "    text = doc['text']\n",
    "    doc['question_text_vector'] = model.encode(question + ' ' + text)\n",
    "\n",
    "    es_client.index(index=index_name, document=doc)"
   ]
  },
  {
   "cell_type": "markdown",
   "id": "097b4ca1-968c-4058-b376-50e89b570c07",
   "metadata": {},
   "source": [
    "# Retrieval"
   ]
  },
  {
   "cell_type": "code",
   "execution_count": 24,
   "id": "49b1fb03-2126-4e56-ac69-c49387b4b689",
   "metadata": {},
   "outputs": [],
   "source": [
    "def elastic_search_knn(field, vector, course):\n",
    "    knn = {\n",
    "        \"field\": field,\n",
    "        \"query_vector\": vector,\n",
    "        \"k\": 5,\n",
    "        \"num_candidates\": 10000,\n",
    "        \"filter\": {\n",
    "            \"term\": {\n",
    "                \"course\": course\n",
    "            }\n",
    "        }\n",
    "    }\n",
    "\n",
    "    search_query = {\n",
    "        \"knn\": knn,\n",
    "        \"_source\": [\"text\", \"section\", \"question\", \"course\", \"id\"]\n",
    "    }\n",
    "\n",
    "    es_results = es_client.search(\n",
    "        index=index_name,\n",
    "        body=search_query\n",
    "    )\n",
    "    \n",
    "    result_docs = []\n",
    "    \n",
    "    for hit in es_results['hits']['hits']:\n",
    "        result_docs.append(hit['_source'])\n",
    "\n",
    "    return result_docs\n",
    "\n",
    "def question_text_vector_knn(q):\n",
    "    question = q['question']\n",
    "    course = q['course']\n",
    "\n",
    "    v_q = model.encode(question)\n",
    "\n",
    "    return elastic_search_knn('question_text_vector', v_q, course)"
   ]
  },
  {
   "cell_type": "code",
   "execution_count": 25,
   "id": "6c09c129-7ce3-4bf6-b60a-cf7fa5f5158f",
   "metadata": {},
   "outputs": [
    {
     "data": {
      "text/plain": [
       "[{'question': 'What if I miss a session?',\n",
       "  'course': 'machine-learning-zoomcamp',\n",
       "  'section': 'General course-related questions',\n",
       "  'text': 'Everything is recorded, so you won’t miss anything. You will be able to ask your questions for office hours in advance and we will cover them during the live stream. Also, you can always ask questions in Slack.',\n",
       "  'id': '5170565b'},\n",
       " {'question': 'Is it going to be live? When?',\n",
       "  'course': 'machine-learning-zoomcamp',\n",
       "  'section': 'General course-related questions',\n",
       "  'text': 'The course videos are pre-recorded, you can start watching the course right now.\\nWe will also occasionally have office hours - live sessions where we will answer your questions. The office hours sessions are recorded too.\\nYou can see the office hours as well as the pre-recorded course videos in the course playlist on YouTube.',\n",
       "  'id': '39fda9f0'},\n",
       " {'question': 'The same accuracy on epochs',\n",
       "  'course': 'machine-learning-zoomcamp',\n",
       "  'section': '8. Neural Networks and Deep Learning',\n",
       "  'text': \"Problem description\\nThe accuracy and the loss are both still the same or nearly the same while training.\\nSolution description\\nIn the homework, you should set class_mode='binary' while reading the data.\\nAlso, problem occurs when you choose the wrong optimizer, batch size, or learning rate\\nAdded by Ekaterina Kutovaia\",\n",
       "  'id': '7d11d5ce'},\n",
       " {'question': 'Useful Resource for Missing Data Treatment\\nhttps://www.kaggle.com/code/parulpandey/a-guide-to-handling-missing-values-in-python/notebook',\n",
       "  'course': 'machine-learning-zoomcamp',\n",
       "  'section': '2. Machine Learning for Regression',\n",
       "  'text': '(Hrithik Kumar Advani)',\n",
       "  'id': '81b8e8d0'},\n",
       " {'question': 'Will I get a certificate if I missed the midterm project?',\n",
       "  'course': 'machine-learning-zoomcamp',\n",
       "  'section': 'General course-related questions',\n",
       "  'text': \"Yes, it's possible. See the previous answer.\",\n",
       "  'id': '1d644223'}]"
      ]
     },
     "execution_count": 25,
     "metadata": {},
     "output_type": "execute_result"
    }
   ],
   "source": [
    "question_text_vector_knn(dict(\n",
    "    question='Are sessions recorded if I miss one?',\n",
    "    course='machine-learning-zoomcamp'\n",
    "))"
   ]
  },
  {
   "cell_type": "markdown",
   "id": "52f5272a-30a3-42c3-9231-9b3c56dc8927",
   "metadata": {},
   "source": [
    "# The RAG flow"
   ]
  },
  {
   "cell_type": "code",
   "execution_count": 27,
   "id": "669a41ed-6987-4108-8782-14cdd57cddce",
   "metadata": {},
   "outputs": [],
   "source": [
    "def build_prompt(query, search_results):\n",
    "    prompt_template = \"\"\"\n",
    "You're a course teaching assistant. Answer the QUESTION based on the CONTEXT from the FAQ database.\n",
    "Use only the facts from the CONTEXT when answering the QUESTION.\n",
    "\n",
    "QUESTION: {question}\n",
    "\n",
    "CONTEXT: \n",
    "{context}\n",
    "\"\"\".strip()\n",
    "\n",
    "    context = \"\"\n",
    "    \n",
    "    for doc in search_results:\n",
    "        context = context + f\"section: {doc['section']}\\nquestion: {doc['question']}\\nanswer: {doc['text']}\\n\\n\"\n",
    "    \n",
    "    prompt = prompt_template.format(question=query, context=context).strip()\n",
    "    return prompt"
   ]
  },
  {
   "cell_type": "code",
   "execution_count": 28,
   "id": "0364ff4a-3fc5-4b2c-8917-1fe5f236c5f8",
   "metadata": {},
   "outputs": [],
   "source": [
    "from openai import OpenAI\n",
    "\n",
    "client = OpenAI()\n",
    "\n",
    "def llm(prompt, model='gpt-4o'):\n",
    "    response = client.chat.completions.create(\n",
    "        model=model,\n",
    "        messages=[{\"role\": \"user\", \"content\": prompt}]\n",
    "    )\n",
    "    \n",
    "    return response.choices[0].message.content"
   ]
  },
  {
   "cell_type": "code",
   "execution_count": 30,
   "id": "e9d47b63-3cb7-4cbc-9835-c01de9fd8902",
   "metadata": {},
   "outputs": [],
   "source": [
    "def rag(query: dict, model='gpt-4o') -> str:\n",
    "    search_results = question_text_vector_knn(query)\n",
    "    prompt = build_prompt(query['question'], search_results)\n",
    "    answer = llm(prompt, model=model)\n",
    "    return answer"
   ]
  },
  {
   "cell_type": "code",
   "execution_count": 31,
   "id": "69167c93-ee4f-4d1c-8a67-f2e092de5f5e",
   "metadata": {},
   "outputs": [
    {
     "data": {
      "text/plain": [
       "{'question': 'Are sessions recorded if I miss one?',\n",
       " 'course': 'machine-learning-zoomcamp',\n",
       " 'document': '5170565b'}"
      ]
     },
     "execution_count": 31,
     "metadata": {},
     "output_type": "execute_result"
    }
   ],
   "source": [
    "ground_truth[10]"
   ]
  },
  {
   "cell_type": "code",
   "execution_count": 32,
   "id": "7d218dc8-386c-4adc-b26b-69629740be9e",
   "metadata": {},
   "outputs": [
    {
     "data": {
      "text/plain": [
       "'Yes, sessions are recorded if you miss one. You will be able to view the recordings, and you can also ask your questions in advance for office hours, which will be covered during the live stream. Additionally, you can ask questions in Slack.'"
      ]
     },
     "execution_count": 32,
     "metadata": {},
     "output_type": "execute_result"
    }
   ],
   "source": [
    "rag(ground_truth[10])"
   ]
  },
  {
   "cell_type": "code",
   "execution_count": 35,
   "id": "61c0012a-d627-4313-a525-0d6f15a1de9d",
   "metadata": {},
   "outputs": [
    {
     "data": {
      "text/plain": [
       "'Everything is recorded, so you won’t miss anything. You will be able to ask your questions for office hours in advance and we will cover them during the live stream. Also, you can always ask questions in Slack.'"
      ]
     },
     "execution_count": 35,
     "metadata": {},
     "output_type": "execute_result"
    }
   ],
   "source": [
    "doc_idx['5170565b']['text']"
   ]
  },
  {
   "cell_type": "markdown",
   "id": "9bfbcf2c-ecc9-4c82-a897-b448a55665f7",
   "metadata": {},
   "source": [
    "# Cosine similarity metric"
   ]
  },
  {
   "cell_type": "code",
   "execution_count": 36,
   "id": "0da59e1c-fdc4-4304-b891-ef57c5cf7713",
   "metadata": {},
   "outputs": [
    {
     "data": {
      "text/plain": [
       "0.759117"
      ]
     },
     "execution_count": 36,
     "metadata": {},
     "output_type": "execute_result"
    }
   ],
   "source": [
    "answer_orig = 'Yes, sessions are recorded if you miss one. Everything is recorded, allowing you to catch up on any missed content. Additionally, you can ask questions in advance for office hours and have them addressed during the live stream. You can also ask questions in Slack.'\n",
    "answer_llm = 'Everything is recorded, so you won’t miss anything. You will be able to ask your questions for office hours in advance and we will cover them during the live stream. Also, you can always ask questions in Slack.'\n",
    "\n",
    "v_llm = model.encode(answer_llm)\n",
    "v_orig = model.encode(answer_orig)\n",
    "\n",
    "v_llm.dot(v_orig)"
   ]
  },
  {
   "cell_type": "code",
   "execution_count": 38,
   "id": "41a35143-207d-403a-bcf2-c9a0c7580faf",
   "metadata": {},
   "outputs": [],
   "source": [
    "answers = {}"
   ]
  },
  {
   "cell_type": "markdown",
   "id": "dde5d5f0-ff70-4964-8857-18c804e34678",
   "metadata": {},
   "source": [
    "# Cosine similarity\n",
    "\n",
    "A->Q->A' cosine similarity\n",
    "\n",
    "A -> Q -> A'\n",
    "\n",
    "cosine(A, A')\n",
    "\n",
    "## gpt-4o"
   ]
  },
  {
   "cell_type": "code",
   "execution_count": 6,
   "id": "7d245282-a3e1-43f2-b4a4-549376a3a390",
   "metadata": {},
   "outputs": [
    {
     "data": {
      "text/plain": [
       "{'answer_llm': 'The CONTEXT provided does not give specific instructions on how to sign up for the course. However, it does mention that you can access the course materials on the course page: [ML Zoomcamp](http://mlzoomcamp.com/). \\n\\nYou might want to start by visiting the course website and looking for further instructions there, as it likely has additional details on how to sign up or enroll in the course.',\n",
       " 'answer_orig': 'Machine Learning Zoomcamp FAQ\\nThe purpose of this document is to capture frequently asked technical questions.\\nWe did this for our data engineering course and it worked quite well. Check this document for inspiration on how to structure your questions and answers:\\nData Engineering Zoomcamp FAQ\\nIn the course GitHub repository there’s a link. Here it is: https://airtable.com/shryxwLd0COOEaqXo\\nwork',\n",
       " 'document': '0227b872',\n",
       " 'question': 'Where can I sign up for the course?',\n",
       " 'course': 'machine-learning-zoomcamp'}"
      ]
     },
     "execution_count": 6,
     "metadata": {},
     "output_type": "execute_result"
    }
   ],
   "source": [
    "import pandas as pd\n",
    "\n",
    "df_gpt4o = pd.read_csv('data/results-gpt4o.csv')\n",
    "results_gpt4o = df_gpt4o.to_dict(orient='records')\n",
    "record = results_gpt4o[0]\n",
    "record"
   ]
  },
  {
   "cell_type": "code",
   "execution_count": 9,
   "id": "0cdd0a00-c0ec-4d00-80b4-c10e8a17f19a",
   "metadata": {},
   "outputs": [],
   "source": [
    "from tqdm.auto import tqdm\n",
    "from sentence_transformers import SentenceTransformer\n",
    "\n",
    "model_name = 'multi-qa-MiniLM-L6-cos-v1'\n",
    "model = SentenceTransformer(model_name)"
   ]
  },
  {
   "cell_type": "code",
   "execution_count": 10,
   "id": "d2bba93a-67b4-4a1a-a7f2-fb431cac674b",
   "metadata": {},
   "outputs": [],
   "source": [
    "def compute_similarity(record):\n",
    "    answer_orig = record['answer_orig']\n",
    "    answer_llm = record['answer_llm']\n",
    "\n",
    "    v_orig = model.encode(answer_orig)\n",
    "    v_llm = model.encode(answer_llm)\n",
    "\n",
    "    return v_llm.dot(v_orig)"
   ]
  },
  {
   "cell_type": "code",
   "execution_count": 11,
   "id": "ab109c82-314b-4326-a8b7-8bc8b0138d06",
   "metadata": {},
   "outputs": [
    {
     "data": {
      "text/plain": [
       "0.5345328"
      ]
     },
     "execution_count": 11,
     "metadata": {},
     "output_type": "execute_result"
    }
   ],
   "source": [
    "compute_similarity(record)"
   ]
  },
  {
   "cell_type": "code",
   "execution_count": 12,
   "id": "9543019c-d682-4351-90e6-588ff4962fc2",
   "metadata": {},
   "outputs": [
    {
     "data": {
      "application/vnd.jupyter.widget-view+json": {
       "model_id": "b00549945f55456984e61cb340667ec4",
       "version_major": 2,
       "version_minor": 0
      },
      "text/plain": [
       "  0%|          | 0/1830 [00:00<?, ?it/s]"
      ]
     },
     "metadata": {},
     "output_type": "display_data"
    }
   ],
   "source": [
    "similarities = []\n",
    "\n",
    "for record in tqdm(results_gpt4o):\n",
    "    similarity = compute_similarity(record)\n",
    "    similarities.append(similarity)"
   ]
  },
  {
   "cell_type": "code",
   "execution_count": 13,
   "id": "4e332270-c36d-447e-9ddf-433124beeb58",
   "metadata": {},
   "outputs": [
    {
     "data": {
      "text/html": [
       "<div>\n",
       "<style scoped>\n",
       "    .dataframe tbody tr th:only-of-type {\n",
       "        vertical-align: middle;\n",
       "    }\n",
       "\n",
       "    .dataframe tbody tr th {\n",
       "        vertical-align: top;\n",
       "    }\n",
       "\n",
       "    .dataframe thead th {\n",
       "        text-align: right;\n",
       "    }\n",
       "</style>\n",
       "<table border=\"1\" class=\"dataframe\">\n",
       "  <thead>\n",
       "    <tr style=\"text-align: right;\">\n",
       "      <th></th>\n",
       "      <th>answer_llm</th>\n",
       "      <th>answer_orig</th>\n",
       "      <th>document</th>\n",
       "      <th>question</th>\n",
       "      <th>course</th>\n",
       "      <th>cosine</th>\n",
       "    </tr>\n",
       "  </thead>\n",
       "  <tbody>\n",
       "    <tr>\n",
       "      <th>0</th>\n",
       "      <td>The CONTEXT provided does not give specific in...</td>\n",
       "      <td>Machine Learning Zoomcamp FAQ\\nThe purpose of ...</td>\n",
       "      <td>0227b872</td>\n",
       "      <td>Where can I sign up for the course?</td>\n",
       "      <td>machine-learning-zoomcamp</td>\n",
       "      <td>0.534533</td>\n",
       "    </tr>\n",
       "    <tr>\n",
       "      <th>1</th>\n",
       "      <td>You can sign up for the Machine Learning Zoomc...</td>\n",
       "      <td>Machine Learning Zoomcamp FAQ\\nThe purpose of ...</td>\n",
       "      <td>0227b872</td>\n",
       "      <td>Can you provide a link to sign up?</td>\n",
       "      <td>machine-learning-zoomcamp</td>\n",
       "      <td>0.696121</td>\n",
       "    </tr>\n",
       "    <tr>\n",
       "      <th>2</th>\n",
       "      <td>Yes, there is an FAQ for the Machine Learning ...</td>\n",
       "      <td>Machine Learning Zoomcamp FAQ\\nThe purpose of ...</td>\n",
       "      <td>0227b872</td>\n",
       "      <td>Is there an FAQ for this Machine Learning course?</td>\n",
       "      <td>machine-learning-zoomcamp</td>\n",
       "      <td>0.717514</td>\n",
       "    </tr>\n",
       "    <tr>\n",
       "      <th>3</th>\n",
       "      <td>No, the provided context does not include any ...</td>\n",
       "      <td>Machine Learning Zoomcamp FAQ\\nThe purpose of ...</td>\n",
       "      <td>0227b872</td>\n",
       "      <td>Does this course have a GitHub repository for ...</td>\n",
       "      <td>machine-learning-zoomcamp</td>\n",
       "      <td>-0.000328</td>\n",
       "    </tr>\n",
       "    <tr>\n",
       "      <th>4</th>\n",
       "      <td>To structure your questions and answers for th...</td>\n",
       "      <td>Machine Learning Zoomcamp FAQ\\nThe purpose of ...</td>\n",
       "      <td>0227b872</td>\n",
       "      <td>How can I structure my questions and answers f...</td>\n",
       "      <td>machine-learning-zoomcamp</td>\n",
       "      <td>0.387620</td>\n",
       "    </tr>\n",
       "  </tbody>\n",
       "</table>\n",
       "</div>"
      ],
      "text/plain": [
       "                                          answer_llm  \\\n",
       "0  The CONTEXT provided does not give specific in...   \n",
       "1  You can sign up for the Machine Learning Zoomc...   \n",
       "2  Yes, there is an FAQ for the Machine Learning ...   \n",
       "3  No, the provided context does not include any ...   \n",
       "4  To structure your questions and answers for th...   \n",
       "\n",
       "                                         answer_orig  document  \\\n",
       "0  Machine Learning Zoomcamp FAQ\\nThe purpose of ...  0227b872   \n",
       "1  Machine Learning Zoomcamp FAQ\\nThe purpose of ...  0227b872   \n",
       "2  Machine Learning Zoomcamp FAQ\\nThe purpose of ...  0227b872   \n",
       "3  Machine Learning Zoomcamp FAQ\\nThe purpose of ...  0227b872   \n",
       "4  Machine Learning Zoomcamp FAQ\\nThe purpose of ...  0227b872   \n",
       "\n",
       "                                            question  \\\n",
       "0                Where can I sign up for the course?   \n",
       "1                 Can you provide a link to sign up?   \n",
       "2  Is there an FAQ for this Machine Learning course?   \n",
       "3  Does this course have a GitHub repository for ...   \n",
       "4  How can I structure my questions and answers f...   \n",
       "\n",
       "                      course    cosine  \n",
       "0  machine-learning-zoomcamp  0.534533  \n",
       "1  machine-learning-zoomcamp  0.696121  \n",
       "2  machine-learning-zoomcamp  0.717514  \n",
       "3  machine-learning-zoomcamp -0.000328  \n",
       "4  machine-learning-zoomcamp  0.387620  "
      ]
     },
     "execution_count": 13,
     "metadata": {},
     "output_type": "execute_result"
    }
   ],
   "source": [
    "# add cosine to dataframe\n",
    "df_gpt4o['cosine'] = similarities\n",
    "df_gpt4o.head()"
   ]
  },
  {
   "cell_type": "code",
   "execution_count": 14,
   "id": "f8f8efeb-db31-406b-ad74-892647866f3b",
   "metadata": {},
   "outputs": [
    {
     "data": {
      "text/plain": [
       "count    1830.000000\n",
       "mean        0.679129\n",
       "std         0.217995\n",
       "min        -0.153425\n",
       "25%         0.591460\n",
       "50%         0.734788\n",
       "75%         0.835390\n",
       "max         0.995338\n",
       "Name: cosine, dtype: float64"
      ]
     },
     "execution_count": 14,
     "metadata": {},
     "output_type": "execute_result"
    }
   ],
   "source": [
    "df_gpt4o['cosine'].describe()"
   ]
  },
  {
   "cell_type": "code",
   "execution_count": 21,
   "id": "ea000380-ade2-4a9c-90f1-9a291a5f9350",
   "metadata": {},
   "outputs": [
    {
     "data": {
      "text/plain": [
       "<seaborn.axisgrid.FacetGrid at 0xfffeebabe810>"
      ]
     },
     "execution_count": 21,
     "metadata": {},
     "output_type": "execute_result"
    },
    {
     "data": {
      "image/png": "[encoded data removed]",
      "text/plain": [
       "<Figure size 500x500 with 1 Axes>"
      ]
     },
     "metadata": {},
     "output_type": "display_data"
    }
   ],
   "source": [
    "import seaborn as sns\n",
    "\n",
    "sns.displot(df_gpt4o['cosine'])"
   ]
  },
  {
   "cell_type": "markdown",
   "id": "cbfc5292-9cf4-4849-bbab-3431b686d358",
   "metadata": {},
   "source": [
    "## gpt-3.5-turbo"
   ]
  },
  {
   "cell_type": "code",
   "execution_count": 17,
   "id": "d4eb05c0-7ebe-404a-9497-6884fa6d1051",
   "metadata": {},
   "outputs": [
    {
     "data": {
      "text/plain": [
       "{'answer_llm': 'You can sign up for the course by going to the course page at http://mlzoomcamp.com/ and scrolling down to access the course materials.',\n",
       " 'answer_orig': 'Machine Learning Zoomcamp FAQ\\nThe purpose of this document is to capture frequently asked technical questions.\\nWe did this for our data engineering course and it worked quite well. Check this document for inspiration on how to structure your questions and answers:\\nData Engineering Zoomcamp FAQ\\nIn the course GitHub repository there’s a link. Here it is: https://airtable.com/shryxwLd0COOEaqXo\\nwork',\n",
       " 'document': '0227b872',\n",
       " 'question': 'Where can I sign up for the course?',\n",
       " 'course': 'machine-learning-zoomcamp'}"
      ]
     },
     "execution_count": 17,
     "metadata": {},
     "output_type": "execute_result"
    }
   ],
   "source": [
    "df_gpt35 = pd.read_csv('data/results-gpt35.csv')\n",
    "results_gpt35 = df_gpt35.to_dict(orient='records')\n",
    "record = results_gpt35[0]\n",
    "record"
   ]
  },
  {
   "cell_type": "code",
   "execution_count": 18,
   "id": "e3944439-8243-4f90-a703-5203dc82a705",
   "metadata": {},
   "outputs": [
    {
     "data": {
      "text/plain": [
       "0.42182222"
      ]
     },
     "execution_count": 18,
     "metadata": {},
     "output_type": "execute_result"
    }
   ],
   "source": [
    "compute_similarity(record)"
   ]
  },
  {
   "cell_type": "code",
   "execution_count": 19,
   "id": "45d67de4-5fb1-4d4a-8bc6-93bb0b5518c8",
   "metadata": {},
   "outputs": [
    {
     "data": {
      "application/vnd.jupyter.widget-view+json": {
       "model_id": "cd90de33dffb4086aa1d22c06051c251",
       "version_major": 2,
       "version_minor": 0
      },
      "text/plain": [
       "  0%|          | 0/1830 [00:00<?, ?it/s]"
      ]
     },
     "metadata": {},
     "output_type": "display_data"
    }
   ],
   "source": [
    "similarities_gp35 = []\n",
    "\n",
    "for record in tqdm(results_gpt35):\n",
    "    similarity = compute_similarity(record)\n",
    "    similarities_gp35.append(similarity)"
   ]
  },
  {
   "cell_type": "code",
   "execution_count": 20,
   "id": "a91a547f-d4e3-4751-b9a0-e91cfb067a9c",
   "metadata": {},
   "outputs": [
    {
     "data": {
      "text/plain": [
       "count    1830.000000\n",
       "mean        0.657599\n",
       "std         0.226063\n",
       "min        -0.168921\n",
       "25%         0.546504\n",
       "50%         0.714784\n",
       "75%         0.817262\n",
       "max         1.000000\n",
       "Name: cosine, dtype: float64"
      ]
     },
     "execution_count": 20,
     "metadata": {},
     "output_type": "execute_result"
    }
   ],
   "source": [
    "df_gpt35['cosine'] = similarities_gp35\n",
    "df_gpt35['cosine'].describe()"
   ]
  },
  {
   "cell_type": "code",
   "execution_count": 22,
   "id": "cffc3485-a56c-41ec-a1b4-db9d46de507b",
   "metadata": {},
   "outputs": [
    {
     "data": {
      "text/plain": [
       "<seaborn.axisgrid.FacetGrid at 0xfffeeb41c620>"
      ]
     },
     "execution_count": 22,
     "metadata": {},
     "output_type": "execute_result"
    },
    {
     "data": {
      "image/png": "[encoded data removed]",
      "text/plain": [
       "<Figure size 500x500 with 1 Axes>"
      ]
     },
     "metadata": {},
     "output_type": "display_data"
    }
   ],
   "source": [
    "sns.displot(df_gpt35['cosine'])"
   ]
  },
  {
   "cell_type": "markdown",
   "id": "5f7b8185-2312-482c-8bdf-28931f9d1cd1",
   "metadata": {},
   "source": [
    "# Compare"
   ]
  },
  {
   "cell_type": "code",
   "execution_count": 26,
   "id": "e7fc5dbd-1e8b-4675-9915-46be2e7f7d3a",
   "metadata": {},
   "outputs": [
    {
     "name": "stderr",
     "output_type": "stream",
     "text": [
      "/tmp/ipykernel_1253/1975789155.py:2: UserWarning: \n",
      "\n",
      "`distplot` is a deprecated function and will be removed in seaborn v0.14.0.\n",
      "\n",
      "Please adapt your code to use either `displot` (a figure-level function with\n",
      "similar flexibility) or `histplot` (an axes-level function for histograms).\n",
      "\n",
      "For a guide to updating your code to use the new functions, please see\n",
      "https://gist.github.com/mwaskom/de44147ed2974457ad6372750bbe5751\n",
      "\n",
      "  sns.distplot(df_gpt4o['cosine'], label='4o')\n",
      "/tmp/ipykernel_1253/1975789155.py:3: UserWarning: \n",
      "\n",
      "`distplot` is a deprecated function and will be removed in seaborn v0.14.0.\n",
      "\n",
      "Please adapt your code to use either `displot` (a figure-level function with\n",
      "similar flexibility) or `histplot` (an axes-level function for histograms).\n",
      "\n",
      "For a guide to updating your code to use the new functions, please see\n",
      "https://gist.github.com/mwaskom/de44147ed2974457ad6372750bbe5751\n",
      "\n",
      "  sns.distplot(df_gpt35['cosine'], label='3.5')\n"
     ]
    },
    {
     "data": {
      "text/plain": [
       "<matplotlib.legend.Legend at 0xfffeea1b89e0>"
      ]
     },
     "execution_count": 26,
     "metadata": {},
     "output_type": "execute_result"
    },
    {
     "data": {
      "image/png": "[encoded data removed]",
      "text/plain": [
       "<Figure size 640x480 with 1 Axes>"
      ]
     },
     "metadata": {},
     "output_type": "display_data"
    }
   ],
   "source": [
    "import matplotlib.pyplot as plt\n",
    "sns.distplot(df_gpt4o['cosine'], label='4o')\n",
    "sns.distplot(df_gpt35['cosine'], label='3.5')\n",
    "\n",
    "plt.title(\"RAG LLM performance\")\n",
    "plt.xlabel(\"A->Q->A' Cosine Similarity\")\n",
    "plt.legend()"
   ]
  },
  {
   "cell_type": "markdown",
   "id": "3bd2fa03-e7a0-441b-aff0-2acbc2f40ed8",
   "metadata": {},
   "source": [
    "# LLM-as-a-Judge"
   ]
  },
  {
   "cell_type": "code",
   "execution_count": 27,
   "id": "4ed93fc6-7f63-4b2d-89d1-92fa4cffe89c",
   "metadata": {},
   "outputs": [],
   "source": [
    "prompt1_template = \"\"\"\n",
    "You are an expert evaluator for a Retrieval-Augmented Generation (RAG) system.\n",
    "Your task is to analyze the relevance of the generated answer compared to the original answer provided.\n",
    "Based on the relevance and similarity of the generated answer to the original answer, you will classify\n",
    "it as \"NON_RELEVANT\", \"PARTLY_RELEVANT\", or \"RELEVANT\".\n",
    "\n",
    "Here is the data for evaluation:\n",
    "\n",
    "Original Answer: {answer_orig}\n",
    "Generated Question: {question}\n",
    "Generated Answer: {answer_llm}\n",
    "\n",
    "Please analyze the content and context of the generated answer in relation to the original\n",
    "answer and provide your evaluation in parsable JSON without using code blocks:\n",
    "\n",
    "{{\n",
    "  \"Relevance\": \"NON_RELEVANT\" | \"PARTLY_RELEVANT\" | \"RELEVANT\",\n",
    "  \"Explanation\": \"[Provide a brief explanation for your evaluation]\"\n",
    "}}\n",
    "\"\"\".strip()\n",
    "\n",
    "prompt2_template = \"\"\"\n",
    "You are an expert evaluator for a Retrieval-Augmented Generation (RAG) system.\n",
    "Your task is to analyze the relevance of the generated answer to the given question.\n",
    "Based on the relevance of the generated answer, you will classify it\n",
    "as \"NON_RELEVANT\", \"PARTLY_RELEVANT\", or \"RELEVANT\".\n",
    "\n",
    "Here is the data for evaluation:\n",
    "\n",
    "Question: {question}\n",
    "Generated Answer: {answer_llm}\n",
    "\n",
    "Please analyze the content and context of the generated answer in relation to the question\n",
    "and provide your evaluation in parsable JSON without using code blocks:\n",
    "\n",
    "{{\n",
    "  \"Relevance\": \"NON_RELEVANT\" | \"PARTLY_RELEVANT\" | \"RELEVANT\",\n",
    "  \"Explanation\": \"[Provide a brief explanation for your evaluation]\"\n",
    "}}\n",
    "\"\"\".strip()"
   ]
  },
  {
   "cell_type": "code",
   "execution_count": 29,
   "id": "744fe5ea-cbbe-4ca2-8432-e6ca45efe6df",
   "metadata": {},
   "outputs": [
    {
     "data": {
      "text/plain": [
       "{'answer_llm': 'The syntax for using `precision_recall_fscore_support` in Python is as follows:\\n\\n```python\\nfrom sklearn.metrics import precision_recall_fscore_support\\n\\nprecision, recall, fscore, support = precision_recall_fscore_support(y_val, y_val_pred, zero_division=0)\\n```\\n\\nHere, `y_val` represents the true labels, `y_val_pred` represents the predicted labels, and `zero_division=0` specifies how to handle divisions by zero. This will return the precision, recall, F1 score, and support for each class.',\n",
       " 'answer_orig': 'Scikit-learn offers another way: precision_recall_fscore_support\\nExample:\\nfrom sklearn.metrics import precision_recall_fscore_support\\nprecision, recall, fscore, support = precision_recall_fscore_support(y_val, y_val_pred, zero_division=0)\\n(Gopakumar Gopinathan)',\n",
       " 'document': '403bbdd8',\n",
       " 'question': 'What is the syntax for using precision_recall_fscore_support in Python?',\n",
       " 'course': 'machine-learning-zoomcamp',\n",
       " 'cosine': 0.8818159699440002}"
      ]
     },
     "execution_count": 29,
     "metadata": {},
     "output_type": "execute_result"
    }
   ],
   "source": [
    "df_sample = df_gpt4o.sample(n=150, random_state=1)\n",
    "samples = df_sample.to_dict(orient='records')\n",
    "record = samples[0]\n",
    "record"
   ]
  },
  {
   "cell_type": "code",
   "execution_count": 31,
   "id": "84f993b8-aff5-482f-b8a0-3747eae8feae",
   "metadata": {},
   "outputs": [
    {
     "name": "stdout",
     "output_type": "stream",
     "text": [
      "You are an expert evaluator for a Retrieval-Augmented Generation (RAG) system.\n",
      "Your task is to analyze the relevance of the generated answer compared to the original answer provided.\n",
      "Based on the relevance and similarity of the generated answer to the original answer, you will classify\n",
      "it as \"NON_RELEVANT\", \"PARTLY_RELEVANT\", or \"RELEVANT\".\n",
      "\n",
      "Here is the data for evaluation:\n",
      "\n",
      "Original Answer: Scikit-learn offers another way: precision_recall_fscore_support\n",
      "Example:\n",
      "from sklearn.metrics import precision_recall_fscore_support\n",
      "precision, recall, fscore, support = precision_recall_fscore_support(y_val, y_val_pred, zero_division=0)\n",
      "(Gopakumar Gopinathan)\n",
      "Generated Question: What is the syntax for using precision_recall_fscore_support in Python?\n",
      "Generated Answer: The syntax for using `precision_recall_fscore_support` in Python is as follows:\n",
      "\n",
      "```python\n",
      "from sklearn.metrics import precision_recall_fscore_support\n",
      "\n",
      "precision, recall, fscore, support = precision_recall_fscore_support(y_val, y_val_pred, zero_division=0)\n",
      "```\n",
      "\n",
      "Here, `y_val` represents the true labels, `y_val_pred` represents the predicted labels, and `zero_division=0` specifies how to handle divisions by zero. This will return the precision, recall, F1 score, and support for each class.\n",
      "\n",
      "Please analyze the content and context of the generated answer in relation to the original\n",
      "answer and provide your evaluation in parsable JSON without using code blocks:\n",
      "\n",
      "{\n",
      "  \"Relevance\": \"NON_RELEVANT\" | \"PARTLY_RELEVANT\" | \"RELEVANT\",\n",
      "  \"Explanation\": \"[Provide a brief explanation for your evaluation]\"\n",
      "}\n"
     ]
    }
   ],
   "source": [
    "prompt = prompt1_template.format(**record)\n",
    "print(prompt)"
   ]
  },
  {
   "cell_type": "code",
   "execution_count": 33,
   "id": "78c15e46-b5af-48d9-91eb-0989578cc024",
   "metadata": {},
   "outputs": [],
   "source": [
    "from openai import OpenAI\n",
    "\n",
    "client = OpenAI()\n",
    "\n",
    "def llm(prompt, model='gpt-4o'):\n",
    "    response = client.chat.completions.create(\n",
    "        model=model,\n",
    "        messages=[{\"role\": \"user\", \"content\": prompt}]\n",
    "    )\n",
    "    \n",
    "    return response.choices[0].message.content"
   ]
  },
  {
   "cell_type": "code",
   "execution_count": 34,
   "id": "6da1582f-b7dc-4d3a-b59f-738bbf485fca",
   "metadata": {},
   "outputs": [],
   "source": [
    "answer = llm(prompt, model='gpt-4o-mini')"
   ]
  },
  {
   "cell_type": "code",
   "execution_count": 35,
   "id": "098ecb44-83fc-43df-9589-f8d8b0b456dc",
   "metadata": {},
   "outputs": [
    {
     "data": {
      "text/plain": [
       "'{\\n  \"Relevance\": \"RELEVANT\",\\n  \"Explanation\": \"The generated answer directly addresses the syntax for using `precision_recall_fscore_support` in Python, which aligns perfectly with the original answer. It includes the relevant code example and additional context about the parameters used, making it comprehensive and accurate.\"\\n}'"
      ]
     },
     "execution_count": 35,
     "metadata": {},
     "output_type": "execute_result"
    }
   ],
   "source": [
    "answer"
   ]
  },
  {
   "cell_type": "code",
   "execution_count": 36,
   "id": "8f8b9bd3-2cd5-4561-ae54-d3b09257a957",
   "metadata": {},
   "outputs": [
    {
     "data": {
      "application/vnd.jupyter.widget-view+json": {
       "model_id": "8b27faad8518497bacd06d853509a957",
       "version_major": 2,
       "version_minor": 0
      },
      "text/plain": [
       "  0%|          | 0/150 [00:00<?, ?it/s]"
      ]
     },
     "metadata": {},
     "output_type": "display_data"
    }
   ],
   "source": [
    "evaluations = []\n",
    "\n",
    "for record in tqdm(samples):\n",
    "    prompt = prompt1_template.format(**record)\n",
    "    evaluation = llm(prompt, model='gpt-4o-mini')\n",
    "    evaluations.append(evaluation)"
   ]
  },
  {
   "cell_type": "code",
   "execution_count": null,
   "id": "17860ef7-3669-4203-ba8f-77c5d1c83da5",
   "metadata": {},
   "outputs": [],
   "source": []
  },
  {
   "cell_type": "code",
   "execution_count": 37,
   "id": "13389463-4bfe-4030-9304-c9f3c81c6894",
   "metadata": {},
   "outputs": [],
   "source": [
    "json_evaluations = []\n",
    "\n",
    "for i, str_eval in enumerate(evaluations):\n",
    "    json_eval = json.loads(str_eval)\n",
    "    json_evaluations.append(json_eval)"
   ]
  },
  {
   "cell_type": "code",
   "execution_count": 38,
   "id": "44877891-af83-443f-af73-d4b299edb506",
   "metadata": {},
   "outputs": [
    {
     "data": {
      "text/plain": [
       "[{'Relevance': 'RELEVANT',\n",
       "  'Explanation': 'The generated answer directly addresses the question regarding the syntax for using `precision_recall_fscore_support` in Python by providing the exact code snippet and explaining the parameters. It closely aligns with the original answer, thus making it highly relevant.'},\n",
       " {'Relevance': 'RELEVANT',\n",
       "  'Explanation': 'The generated answer directly addresses the problem described in the original answer regarding pickle errors when using waitress. It provides a clear and concise solution that mirrors the steps outlined in the original answer, including moving the custom class to a separate module and updating the import statements in both the training and prediction scripts. The generated content effectively conveys the same essential information and context, demonstrating high relevance.'},\n",
       " {'Relevance': 'RELEVANT',\n",
       "  'Explanation': 'The generated answer effectively addresses the question about launching a container image in interactive mode by providing the correct command and context. It closely aligns with the original answer, which also specifies the same command while adding useful context about debugging.'},\n",
       " {'Relevance': 'RELEVANT',\n",
       "  'Explanation': 'The generated answer directly addresses the question about making a pull request for homework solutions using Pytorch and accurately reflects the information from the original answer. It maintains the core message about the equivalency of Pytorch and Keras, encourages contributions, and provides a helpful tutorial link, thus showing high relevance and similarity to the original content.'},\n",
       " {'Relevance': 'PARTLY_RELEVANT',\n",
       "  'Explanation': 'While the generated answer discusses potential causes and solutions related to dependency issues in a different context (Scikit-Learn version conflicts), it does not directly address the specific error mentioned in the original answer regarding Docker and the Python wheel version. The contexts are related as they both involve errors in a programming scenario, but the details differ significantly.'},\n",
       " {'Relevance': 'RELEVANT',\n",
       "  'Explanation': \"The generated answer directly addresses the user's question regarding which command to run after editing the metrics-server. It correctly states that the command is 'kubectl get hpa,' which was also specified in the original answer. The context and content are closely aligned, confirming the generated answer's relevance to the original answer.\"},\n",
       " {'Relevance': 'RELEVANT',\n",
       "  'Explanation': 'The generated answer addresses the question about checking the AWS CLI version for eksctl compatibility. It correctly mentions the command to check the version and emphasizes the importance of being on AWS CLI v2, which aligns closely with the original answer.'},\n",
       " {'Relevance': 'RELEVANT',\n",
       "  'Explanation': 'The generated answer directly addresses the question about the main reason for different accuracy values, providing a clear explanation related to the way data is split into training, validation, and test sets. It includes specific examples and the same recommendations as the original answer, demonstrating a high level of relevance and alignment with the original content.'},\n",
       " {'Relevance': 'RELEVANT',\n",
       "  'Explanation': 'The generated answer directly addresses the question of what to do if the `REMOTE_URI` variable is lost after the session ends. It provides step-by-step instructions to reassign the variable in the terminal and verifies that it has been set correctly, which aligns well with the guidance given in the original answer. Additionally, it includes the important note about not needing curly brackets for echoing the variable, which is also mentioned in the original context.'},\n",
       " {'Relevance': 'RELEVANT',\n",
       "  'Explanation': 'The generated answer directly addresses the question by providing the location of the script for generating the Kitchenware Classification Competition dataset, which matches the information presented in the original answer.'},\n",
       " {'Relevance': 'RELEVANT',\n",
       "  'Explanation': 'The generated answer directly addresses the solution for the TensorFlow Serving error on Apple M1 Macs, providing the necessary steps and commands, which are consistent with the information in the original answer. It accurately conveys the alternative Docker image to use and includes reference to the repository for further information, matching the intent and content of the original answer.'},\n",
       " {'Relevance': 'NON_RELEVANT',\n",
       "  'Explanation': \"The generated answer does not directly address the specific error encountered with the 'eb local' command or the recommended solutions provided in the original answer. Instead, it offers general troubleshooting steps that are not specifically tailored to the issue related to Docker platforms in Elastic Beanstalk, making it largely irrelevant to the context of the original content.\"},\n",
       " {'Relevance': 'RELEVANT',\n",
       "  'Explanation': 'The generated answer directly addresses the question about who added the solution for fixing the error in Keras model training, which is explicitly stated in the original answer. Both the question and answer are aligned in terms of content and context.'},\n",
       " {'Relevance': 'RELEVANT',\n",
       "  'Explanation': 'The generated answer accurately captures the first step mentioned in the original answer, which is to launch a PowerShell terminal with administrator privilege. Although it does not include the subsequent installation command for Chocolatey, it directly addresses the question regarding the first step in the installation process.'},\n",
       " {'Relevance': 'RELEVANT',\n",
       "  'Explanation': 'The generated answer directly addresses the question by providing a method to fetch data for homework using the requests library, which is the same topic as the original answer. It includes the same code snippet and explains how it works, demonstrating complete alignment with the original content.'},\n",
       " {'Relevance': 'RELEVANT',\n",
       "  'Explanation': \"The generated answer directly addresses the question about using `mean_squared_error` to compute RMSE in one step, confirming that it can be done by setting the `squared` parameter to `False`. It also provides an example of how to implement it, which aligns well with the original answer's guidance.\"},\n",
       " {'Relevance': 'RELEVANT',\n",
       "  'Explanation': 'The generated answer directly addresses the question about where to find documentation on how Lambda functions are initialized. It provides the same links mentioned in the original answer, which are pertinent to both Lambda container images and Lambda function initialization.'},\n",
       " {'Relevance': 'RELEVANT',\n",
       "  'Explanation': 'The generated answer directly addresses the question by explaining how to read a dataset from a GitHub URL using pandas. It includes the method and provides an example similar to the original answer, demonstrating the correct code. Both answers convey the same information effectively.'},\n",
       " {'Relevance': 'RELEVANT',\n",
       "  'Explanation': \"The generated answer directly addresses the question of why missing values end up in the training dataframe when using a random seed of 42, providing a clear explanation of the seed's role in the data splitting process. It correctly describes the impact of the seed on the distribution of missing values and maintains consistency with the original answer's context and content.\"},\n",
       " {'Relevance': 'RELEVANT',\n",
       "  'Explanation': 'The generated answer directly addresses the question about where to find materials related to the cohort by providing precise instructions to access the course page and the cohort folder, which are highlighted in the original answer. It retains the essential information and context needed for the user.'},\n",
       " {'Relevance': 'RELEVANT',\n",
       "  'Explanation': 'The generated answer directly addresses the generated question by confirming that there is a link to learn more about the California housing dataset and provides the same detailed description along with the link as the original answer. It maintains the context and content while enhancing clarity with a hyperlink format.'},\n",
       " {'Relevance': 'RELEVANT',\n",
       "  'Explanation': 'The generated answer directly addresses the question about which algorithms represent bagging and boosting, accurately identifying Random Forest as representing bagging and XGBoost as representing boosting. It captures the essence of the original answer succinctly without omitting any key information.'},\n",
       " {'Relevance': 'RELEVANT',\n",
       "  'Explanation': 'The generated answer accurately identifies Ella Sahnan as the contributor of the information related to using metrics on a series or dataframe, which aligns with the content of the original answer.'},\n",
       " {'Relevance': 'RELEVANT',\n",
       "  'Explanation': 'The generated answer directly addresses the request for a video on the normal form derivation for regression. It references the same video mentioned in the original answer and confirms its usefulness, maintaining clarity and relevance to the topic.'},\n",
       " {'Relevance': 'PARTLY_RELEVANT',\n",
       "  'Explanation': 'The generated answer addresses the aspect of free services provided by Google Cloud Platform (GCP) mentioned in the original answer. However, it does not fully encompass the original context which discusses other platforms (AWS, Saturn) and specific details about GPU hours or the need for alternatives due to RAM limitations. Therefore, while it does contain relevant information about GCP, it lacks the broader context and specifics of the original response.'},\n",
       " {'Relevance': 'RELEVANT',\n",
       "  'Explanation': 'The generated answer directly addresses the question about finding a guide for using Docker in Google Colab by providing a link to the original Gist. It includes a summarized version of the steps mentioned in the original answer, which are relevant and informative for users looking to work with Docker in Google Colab.'},\n",
       " {'Relevance': 'RELEVANT',\n",
       "  'Explanation': 'The generated answer directly addresses the question by providing the exact command to import the function necessary for RMSE calculation, which is a key part of the original answer. It accurately reflects the content and context of the original answer.'},\n",
       " {'Relevance': 'PARTLY_RELEVANT',\n",
       "  'Explanation': 'The generated answer partially addresses the original question about using an alternative command when a default region is configured. It explains the context of not needing to specify a region in AWS configuration, but it does not directly mention the specific command provided in the original answer. While the information provided is related, it lacks direct relevance to the alternative command explicitly outlined in the original answer.'},\n",
       " {'Relevance': 'RELEVANT',\n",
       "  'Explanation': 'The generated answer accurately addresses the generated question by explaining how to compute the standard deviation using the `std()` function in pandas. It also provides a practical example similar to the original answer, which reinforces its relevance and correctness.'},\n",
       " {'Relevance': 'RELEVANT',\n",
       "  'Explanation': 'The generated answer directly addresses the generated question regarding the default value for the number of workers in the fit function, which is explicitly stated as 1 in the original answer. The generated answer is concise and accurately reflects the relevant information from the original answer.'},\n",
       " {'Relevance': 'RELEVANT',\n",
       "  'Explanation': 'The generated answer directly addresses the issue of loading a Keras model with an optimizer error, which was the context of the original question. It provides the same solution as the original answer and includes relevant details regarding the specific error, making it highly relevant.'},\n",
       " {'Relevance': 'RELEVANT',\n",
       "  'Explanation': 'The generated answer directly addresses the original question by explaining how to verify results obtained from custom code for evaluation metrics using the `scikit-learn` library. It provides specific examples of metrics as well as code implementation, aligning well with the context of the original answer.'},\n",
       " {'Relevance': 'RELEVANT',\n",
       "  'Explanation': 'The generated answer accurately reflects the key points made in the original answer regarding the application of regularization in machine learning. It addresses when regularization should be considered, noting its importance in small datasets and complex models, and emphasizes the need to evaluate each case individually. The content aligns closely in terms of meaning and context.'},\n",
       " {'Relevance': 'RELEVANT',\n",
       "  'Explanation': \"The generated answer accurately explains the role of `np.sign` in determining the intercept between precision and recall curves, aligning closely with the original answer's content. It incorporates key concepts from the original, including the change in sign indicating the intersection point, and it correctly references the relevant code snippets. Overall, it effectively addresses the question while maintaining coherence with the original context.\"},\n",
       " {'Relevance': 'RELEVANT',\n",
       "  'Explanation': \"The generated answer accurately and thoroughly addresses the issue of running out of storage after building Docker images, mirroring the original answer's problem and solution. It provides a clear sequence of steps to resolve the storage issue and directly references the necessary commands, aligning well with the original context. The inclusion of a link to Stack Overflow for additional information is also retained from the original content, further supporting its relevance.\"},\n",
       " {'Relevance': 'RELEVANT',\n",
       "  'Explanation': 'The generated answer accurately describes the order in which folders are read when determining numeric class labels in TensorFlow, directly reflecting the information provided in the original answer. It includes specific examples and details, such as the use of `sorted(os.listdir(directory))` and the assignment of class labels based on the alphabetical order of folder names.'},\n",
       " {'Relevance': 'RELEVANT',\n",
       "  'Explanation': 'The generated answer closely mirrors the original answer by correctly identifying the file that needs to be modified and providing the necessary lines to add along with the command to restart Docker. It maintains consistent context and content, making it fully relevant.'},\n",
       " {'Relevance': 'RELEVANT',\n",
       "  'Explanation': 'The generated answer accurately addresses the question regarding the number of models required for the midterm by stating there is no specific number needed and emphasizing the importance of training multiple models, which aligns well with the original answer.'},\n",
       " {'Relevance': 'RELEVANT',\n",
       "  'Explanation': \"The generated answer accurately explains the scenario regarding the threshold of 1.0 in relation to the sigmoid function, addressing both the False Positive Rate (FPR) and the True Positive Rate (TPR) as stated in the original answer. It aligns well with the original answer's content and context, providing a clear interpretation of the conditions leading to the FPR and TPR being 0.0.\"},\n",
       " {'Relevance': 'RELEVANT',\n",
       "  'Explanation': \"The generated answer directly addresses the question about the pandas method to calculate the standard deviation, providing the relevant method `std()` and demonstrating its use with both a Series and a DataFrame. This aligns well with the original answer's content and method of explanation.\"},\n",
       " {'Relevance': 'RELEVANT',\n",
       "  'Explanation': 'The generated answer accurately explains why `df_train_full` is not included in the correlation matrix task, aligning closely with the reasoning presented in the original answer. Both emphasize the separation of training and validation datasets to ensure unbiased conclusions about model performance.'},\n",
       " {'Relevance': 'NON_RELEVANT',\n",
       "  'Explanation': 'The generated answer addresses how to set up a Conda environment, which is unrelated to the original answer concerning homework access based on repository visibility. There is no connection in theme or content between the original answer and the generated answer.'},\n",
       " {'Relevance': 'PARTLY_RELEVANT',\n",
       "  'Explanation': \"The generated answer addresses the issue of a ValueError related to feature names in XGBoost and provides methods for replacing unsupported characters, which aligns with the original answer's topic. However, it slightly deviates in its approach by focusing more on replacing specific characters rather than the broader issue outlined in the original, such as the problem with obtaining an np.ndarray instead of a list. While both answers provide useful information, the generated answer does not fully cover all points made in the original.\"},\n",
       " {'Relevance': 'RELEVANT',\n",
       "  'Explanation': 'The generated answer directly addresses the issue of not being able to connect to the Docker daemon on WSL, which aligns well with the original answer. It provides a comprehensive solution that includes reinstalling Docker on WSL and starting the Docker daemon, accurately reflecting the main points made in the original answer. The additional detail about Docker Desktop WSL Integration enhances the relevance without straying from the core issue.'},\n",
       " {'Relevance': 'PARTLY_RELEVANT',\n",
       "  'Explanation': \"The generated answer responds to a related question about the necessity of completing the midterm project for the certificate. However, it does not directly address the original answer's affirmation that it is possible to not complete the midterm project, as it introduces additional conditions related to other course projects and peer reviews. This demonstrates some relevance but does not fully align with the succinctness of the original answer.\"},\n",
       " {'Relevance': 'RELEVANT',\n",
       "  'Explanation': \"The generated answer addresses the user's question about starting the Docker daemon on Linux by providing a specific command that is pertinent to the original context. It also aligns with the instructions given in the original answer while adding further helpful information about enabling Docker to start at boot. Therefore, it is considered relevant.\"},\n",
       " {'Relevance': 'RELEVANT',\n",
       "  'Explanation': \"The generated answer directly addresses the question about eligibility for certification after missing the midterm project. It confirms that eligibility is still possible and provides additional information on the requirements to obtain the certificate, which aligns with the original answer's affirmative response.\"},\n",
       " {'Relevance': 'RELEVANT',\n",
       "  'Explanation': 'The generated answer directly addresses the question about how to install `md5sum` on a Mac, providing the specific command needed to do so. It aligns well with the original answer, which also provides the same command for installation and maintains relevant context.'},\n",
       " {'Relevance': 'RELEVANT',\n",
       "  'Explanation': 'The generated answer accurately restates the information provided in the original answer, including the method to transfer files using the `docker cp` command and the necessary syntax. It directly answers the question posed in the generated question, demonstrating high relevance and similarity to the original content.'},\n",
       " {'Relevance': 'PARTLY_RELEVANT',\n",
       "  'Explanation': 'The generated answer addresses the question about YouTube resources but indicates that there is no specific video mentioned for Evaluation Metrics for Classification. It provides relevant alternative information about tools and methods for calculating classification metrics, which is somewhat related to the topic of evaluation metrics. However, it does not directly provide a YouTube video as requested, which affects its relevance.'},\n",
       " {'Relevance': 'RELEVANT',\n",
       "  'Explanation': 'The generated answer directly addresses the question about the version of the zoomcamp-model image mentioned for Module 5 HW Question 6, and it accurately reflects the crucial information found in the original answer.'},\n",
       " {'Relevance': 'RELEVANT',\n",
       "  'Explanation': 'The generated answer directly addresses the question about which method is suitable for high cardinality categorical features. It accurately identifies FeatureHasher as the suitable method and provides relevant information regarding the memory efficiency of FeatureHasher compared to DictVectorizer, aligning closely with the details provided in the original answer.'},\n",
       " {'Relevance': 'RELEVANT',\n",
       "  'Explanation': 'The generated answer accurately reflects the original answer by recommending the second method for data splitting and includes the same rationale about consistency with lessons and homework. It captures the essential details and structure of the recommendation provided in the original answer.'},\n",
       " {'Relevance': 'RELEVANT',\n",
       "  'Explanation': 'The generated answer directly addresses the issue described in the original answer, providing the correct solution of evaluating the model on input data before loading the weights. It accurately reflects the content of the original answer and offers additional clarity with a step-by-step explanation.'},\n",
       " {'Relevance': 'RELEVANT',\n",
       "  'Explanation': \"The generated answer directly addresses the question about why AUC values change when re-running the `DecisionTreeClassifier` in Jupyter. It explains the inherent randomness and provides a solution to achieve consistent results by setting the `random_state` parameter, which aligns perfectly with the original answer and effectively addresses the user's concern.\"},\n",
       " {'Relevance': 'RELEVANT',\n",
       "  'Explanation': \"The generated answer accurately addresses the f-string error mentioned in the original answer and correctly identifies the syntax issues, providing specific corrections. It directly relates to the user's question about the error in the context of deploying machine learning models, making it highly relevant.\"},\n",
       " {'Relevance': 'RELEVANT',\n",
       "  'Explanation': 'The generated answer directly addresses the procedure to follow after restarting Docker Desktop and the terminal fails, specifically mentioning the command to run, which aligns with the solution provided in the original answer. It maintains the context of troubleshooting the docker image building issue.'},\n",
       " {'Relevance': 'RELEVANT',\n",
       "  'Explanation': \"The generated answer addresses the question about differences in skills taught between iterations, affirming that there are no differences and reinforcing the continuity of the course's focus as stated in the original answer. It effectively conveys the same core information regarding the course content and the use of still-relevant videos.\"},\n",
       " {'Relevance': 'NON_RELEVANT',\n",
       "  'Explanation': 'The generated answer directly contradicts the original answer, which states that specific Python library versions can be required for homework. It fails to acknowledge the importance of matching certain versions for completion and instead focuses on discrepancies without addressing the initial context about the advisability of using different versions.'},\n",
       " {'Relevance': 'RELEVANT',\n",
       "  'Explanation': \"The generated answer addresses the specific issue of 'wget is not recognized as an internal or external command' on a Windows system, closely mirroring the solutions provided in the original answer. It includes detailed, step-by-step instructions for installing wget using Chocolatey, manually downloading the binary, and also using the Python wget module, which aligns well with the original answer's content and context.\"},\n",
       " {'Relevance': 'RELEVANT',\n",
       "  'Explanation': 'The generated answer accurately identifies George Chizhmak as the individual who provided the solution for the XGBoostError, which aligns with the information in the original answer.'},\n",
       " {'Relevance': 'RELEVANT',\n",
       "  'Explanation': \"The generated answer accurately identifies the cause of the error mentioned in the original answer and provides the correct solution by highlighting the incorrect package name 'sklearn' and suggesting the proper name 'scikit-learn'. The solution matches the content and context of the original answer closely.\"},\n",
       " {'Relevance': 'RELEVANT',\n",
       "  'Explanation': \"The generated answer accurately confirms the original answer's content regarding using default values for all fields except the Access Key ID and Secret Access Key in AWS configuration. The response directly addresses the generated question, demonstrating a clear understanding and alignment with the original topic.\"},\n",
       " {'Relevance': 'RELEVANT',\n",
       "  'Explanation': 'The generated answer directly addresses the generated question regarding how to handle memory allocation errors in AWS ECS by providing the same solution as the original answer, which is to increase the RAM and CPU in the task definition.'},\n",
       " {'Relevance': 'PARTLY_RELEVANT',\n",
       "  'Explanation': \"The generated answer addresses the impact of a negative accuracy difference when removing a feature, which is a part of the original answer's context. However, it does not fully engage with the original question regarding the calculation of the smallest difference in accuracy or explicitly discuss the distinction between 'smallest' and 'lowest' accuracy differences in real vs. absolute values. Therefore, while it is related, it lacks completeness.\"},\n",
       " {'Relevance': 'RELEVANT',\n",
       "  'Explanation': 'The generated answer accurately summarizes the actions taken by Ángel de Vicente to resolve the protobuf issue in session 10.3. It includes the specific command used to create the virtual environment with the necessary package versions, which is directly relevant to the original answer and addresses the question asked.'},\n",
       " {'Relevance': 'RELEVANT',\n",
       "  'Explanation': \"The generated answer directly addresses the question of how to set up CUDA and cuDNN on Ubuntu 22.04, providing a detailed, step-by-step guide. It aligns well with the original answer's intent to simplify the setup process for TensorFlow with GPU, thereby maintaining high relevance and similarity to the original content.\"},\n",
       " {'Relevance': 'RELEVANT',\n",
       "  'Explanation': \"The generated answer directly addresses the question about initiating tasks for Week 10 by stating that the information is currently marked as 'TODO.' It conveys the lack of specific instructions, which aligns with the original answer's content, providing context and suggesting that the user check back or contact relevant personnel for updates.\"},\n",
       " {'Relevance': 'RELEVANT',\n",
       "  'Explanation': 'The generated answer accurately restates the essential information from the original answer, specifically mentioning the correct year (2021) and maintaining the context of checking course solutions related to AUC.'},\n",
       " {'Relevance': 'PARTLY_RELEVANT',\n",
       "  'Explanation': 'The generated answer addresses the server-side error associated with gunicorn, though it does not provide an explicit error message. Instead, it focuses on the context given and offers a potential solution. The connection to the original answer is present, but because it lacks the specific error message detail, it falls under partly relevant.'},\n",
       " {'Relevance': 'RELEVANT',\n",
       "  'Explanation': \"The generated answer accurately addresses the recommendation to use `DictVectorizer` or `pandas.get_dummies` after data splitting, explicitly explaining the concept of data leakage and its implications on model evaluation. It closely aligns with the original answer's emphasis on avoiding data leakage and maintains context by mentioning the importance of not allowing test set information to influence the training process.\"},\n",
       " {'Relevance': 'RELEVANT',\n",
       "  'Explanation': 'The generated answer correctly identifies the person who added the solution to the NameError issue mentioned in the original answer. It directly addresses the generated question about who contributed to the FAQ section regarding that specific error.'},\n",
       " {'Relevance': 'PARTLY_RELEVANT',\n",
       "  'Explanation': 'The generated answer identifies Krishna Annad as the person who mentioned the usage of Yellowbrick, which is related to the original answer. However, it does not include the information about what Yellowbrick is or its functionality, which was a significant part of the original answer.'},\n",
       " {'Relevance': 'RELEVANT',\n",
       "  'Explanation': \"The generated answer directly addresses the issue of 'kind' not being recognized as a command on Windows, and it provides a comprehensive set of steps that align closely with the original answer. The steps include downloading the executable, renaming it, moving it to a specific folder, and updating the PATH, which are all necessary actions to resolve the stated problem.\"},\n",
       " {'Relevance': 'RELEVANT',\n",
       "  'Explanation': \"The generated answer addresses the original problem of 'kind' not being recognized as a command on Windows. It provides a clear solution by outlining the necessary steps to rename the executable and add it to the PATH, which directly corresponds to the solution provided in the original answer.\"},\n",
       " {'Relevance': 'RELEVANT',\n",
       "  'Explanation': \"The generated answer addresses the question of visualizing feature importance in scikit-learn, providing practical steps and code examples that are relevant to the original answer. It also includes a reference to the same visual example from the scikit-learn documentation, which discusses stability in feature importance, aligning well with the original answer's focus on explainability and adding standard errors.\"},\n",
       " {'Relevance': 'PARTLY_RELEVANT',\n",
       "  'Explanation': \"The generated answer addresses the issue of renaming a file with a dash, which is relevant to the original answer. However, it introduces slight discrepancies by referencing a different file name ('waitress-serve.py' instead of 'q4-predict.py') and does not explicitly mention that Waitress does not accept dashes in filenames, which is a key part of the original answer.\"},\n",
       " {'Relevance': 'RELEVANT',\n",
       "  'Explanation': 'The generated answer directly addresses the generated question by providing the correct commands to display the size of a specific Docker image. It includes both command variations mentioned in the original answer, thus maintaining the relevant context and information.'},\n",
       " {'Relevance': 'RELEVANT',\n",
       "  'Explanation': \"The generated answer accurately explains the functionality and parameters of the KFold function in relation to n_splits, shuffle, and random_state. It addresses the content of the original answer, clarifying that KFold creates separate datasets and explaining the implications of using different parameters. Furthermore, it aligns well with the discussion about the best practices regarding the generator's initialization within or outside a loop, which was a concern in the original context.\"},\n",
       " {'Relevance': 'RELEVANT',\n",
       "  'Explanation': \"The generated answer accurately mirrors the content and context of the original answer by providing the correct commands and instructions to load a dataset into Kaggle Notebooks. It includes the necessary details such as the use of `wget`, the importance of the `!` prefix, and the pandas command to read the dataset. Additionally, it offers a helpful tip about ensuring internet access in Kaggle notebooks, which enhances the answer's completeness, making it fully relevant.\"},\n",
       " {'Relevance': 'RELEVANT',\n",
       "  'Explanation': 'The generated answer directly addresses the question regarding how to calculate the probability of class 0 given the probability of class 1 in a Keras model. It accurately explains the formula and provides a clear example that aligns with the content of the original answer, which discussed class probabilities in Keras models. Both answers are closely related in content and context.'},\n",
       " {'Relevance': 'PARTLY_RELEVANT',\n",
       "  'Explanation': \"The generated answer provides useful information about asking questions during the course, which is tangentially related to the original answer suggesting to 'see the answer here.' However, it does not directly address the original content or provide a link or clear answer reference, making it only partially relevant.\"},\n",
       " {'Relevance': 'RELEVANT',\n",
       "  'Explanation': 'The generated answer directly addresses the question about posting the same content on multiple social sites for homework points. It accurately reflects the details provided in the original answer regarding the number of URLs allowed, the points system, and the requirement to use the tag #mlzoomcamp. Overall, it captures the essential information and context from the original answer.'},\n",
       " {'Relevance': 'RELEVANT',\n",
       "  'Explanation': \"The generated answer correctly identifies the error message and explains that it is due to the default naming of the executable file. It provides a clear solution by instructing the user to rename the downloaded file and place it in a directory included in the system's PATH, which aligns perfectly with the original answer.\"},\n",
       " {'Relevance': 'RELEVANT',\n",
       "  'Explanation': 'The generated answer accurately captures the key points from the original answer, explaining why mutual information cannot directly use continuous variables. It mentions the need to convert the continuous variable to a binary format and the subjectivity involved in binning, which aligns closely with the original explanation.'},\n",
       " {'Relevance': 'RELEVANT',\n",
       "  'Explanation': 'The generated answer accurately reflects the information provided in the original answer, specifically mentioning the `keras.models.Sequential()` function and its purpose in passing multiple parameters. The context of Krishna Anand recommending this method is preserved in the generated answer.'},\n",
       " {'Relevance': 'RELEVANT',\n",
       "  'Explanation': \"The generated answer addresses the handling of categorical features before using Ridge Regression, which aligns directly with the question posed. It mentions transforming categorical features into numerical formats through One-Hot Encoding, which is consistent with the original answer's suggestion to drop categorical features, although it provides a more nuanced solution. Additionally, it incorporates the detail about using 'sparse=True' to prevent convergence issues and adds steps for normalizing numerical features and combining them, enhancing the response while still being relevant to the original guidance.\"},\n",
       " {'Relevance': 'PARTLY_RELEVANT',\n",
       "  'Explanation': 'The generated answer addresses the use of DictVectorizer and provides relevant information about fitting the vectorizer and ensuring correct procedures. However, it does not directly reference several key points from the original answer, such as the importance of setting `sparse=True` to avoid convergence errors or the use of StandardScaler for numerical variables. Therefore, while there are related topics discussed, the generated answer does not fully align with all the critical aspects of the original answer.'},\n",
       " {'Relevance': 'RELEVANT',\n",
       "  'Explanation': \"The generated answer directly addresses the question about how to install pip on WSL by providing the exact command needed, which is also mentioned in the original answer. The context and content align perfectly with the original answer's specific instruction regarding the installation of pip.\"},\n",
       " {'Relevance': 'RELEVANT',\n",
       "  'Explanation': 'The generated answer correctly identifies the ocean_proximity variable as the second variable needed to calculate the mutual information score with the binarized price, directly aligning with the original answer.'},\n",
       " {'Relevance': 'NON_RELEVANT',\n",
       "  'Explanation': 'The generated answer addresses a completely different aspect of the original answer. While the original answer discusses the AWS configuration process and the default output format, the generated answer focuses solely on identifying who provided the solution, which does not relate directly to the content or query regarding the configuration itself.'},\n",
       " {'Relevance': 'RELEVANT',\n",
       "  'Explanation': \"The generated answer closely mirrors the original answer, addressing the same error regarding pipenv not being recognized and providing a detailed solution for updating the PATH variable on Windows. It also includes a note about Anaconda, which aligns with the original answer's caution. Both answers effectively guide the user in resolving the same issue.\"},\n",
       " {'Relevance': 'RELEVANT',\n",
       "  'Explanation': \"The generated answer provides a detailed and accurate set of instructions that directly mirrors the original answer's content and intent. Both answers instruct the user on how to add notes to the Community Notes section by creating a GitHub repository, forking the original repository, linking to personal notes, and creating a pull request. The generated answer effectively addresses the question posed.\"},\n",
       " {'Relevance': 'NON_RELEVANT',\n",
       "  'Explanation': 'The generated answer mentions a specific person (Larkin Andrii) as the provider of a recommended practice related to DictVectorizer or get_dummies, which is not related to the original answer provided by Connie S. The original answer discusses avoiding data leakage when splitting datasets for training, validation, and testing, which is a different topic altogether. There is no connection between the two answers.'},\n",
       " {'Relevance': 'RELEVANT',\n",
       "  'Explanation': \"The generated answer directly addresses the user's question about finding more details on the `mean_squared_error` function for RMSE in Python. It includes the same code snippet from the original answer, explains its usage, and provides a link to the Stack Overflow page for additional details. Furthermore, it also adds supplementary information by referencing Alexey's notebook. Overall, the generated answer maintains the core content and context of the original response while expanding on it.\"},\n",
       " {'Relevance': 'RELEVANT',\n",
       "  'Explanation': \"The generated answer provides a detailed step-by-step guide on how to push an initial commit to GitHub, which aligns well with the original answer's context of resolving the error encountered when trying to push to a GitHub repository. It includes relevant commands and mentions alternative methods for uploading files, which were also part of the original answer. Additionally, it references the GitHub quickstart guide, similar to how the original answer does, indicating a strong alignment in content and purpose.\"},\n",
       " {'Relevance': 'RELEVANT',\n",
       "  'Explanation': \"The generated answer directly answers the question about self-paced course availability and provides additional context about flexible scheduling, mirroring the original answer's information accurately.\"},\n",
       " {'Relevance': 'RELEVANT',\n",
       "  'Explanation': \"The generated answer directly addresses the question about the number of workers to set for faster training on a T4 GPU in Google Colab, accurately stating that 2560 should be used. It also correctly mentions the context of the 'fit' function, which aligns well with the information given in the original answer.\"},\n",
       " {'Relevance': 'RELEVANT',\n",
       "  'Explanation': \"The generated answer directly addresses the question about the values for CPU and memory, stating that they are arbitrary and clarifying the requirement of specifying them in the YAML file. It also accurately reflects the original answer's emphasis on the port value being the focus for correctness in the homework.\"},\n",
       " {'Relevance': 'RELEVANT',\n",
       "  'Explanation': \"The generated answer correctly identifies the error that occurs when executing the command `eb local run --port 9696`, mirroring the original answer's content and context. It provides specific details about the error and offers relevant solutions to address the issue, which aligns closely with the information given in the original answer.\"},\n",
       " {'Relevance': 'RELEVANT',\n",
       "  'Explanation': \"The generated answer directly addresses the issue presented in the original answer by explaining how to avoid the 'manifest unknown' error when pulling a Docker image. It correctly recommends specifying the appropriate tag instead of using the default 'latest' tag, and it provides the exact command needed, mirroring the solution offered in the original answer.\"},\n",
       " {'Relevance': 'RELEVANT',\n",
       "  'Explanation': 'The generated answer directly addresses the generated question by providing the same resources mentioned in the original answer. It accurately reflects the intent of the question and provides the necessary documentation for understanding Lambda container images in depth.'},\n",
       " {'Relevance': 'RELEVANT',\n",
       "  'Explanation': \"The generated answer directly addresses the issue of importing the ping function, which aligns perfectly with the original answer's context. It provides the same solution and correctly references the import statement needed, making it fully relevant to the question asked.\"},\n",
       " {'Relevance': 'RELEVANT',\n",
       "  'Explanation': 'The generated answer directly addresses the question about where to find installation instructions for Docker on MacOS and includes the same link as the original answer. Additionally, it retains the important detail about checking for the type of chip, making it fully relevant.'},\n",
       " {'Relevance': 'RELEVANT',\n",
       "  'Explanation': 'The generated answer directly addresses the question about how to specify files to be copied over in the Dockerfile by providing the relevant `COPY` command syntax from the original answer. It includes an example and additional guidance on using double quotes, aligning well with the context of the original answer.'},\n",
       " {'Relevance': 'RELEVANT',\n",
       "  'Explanation': \"The generated answer accurately describes the function of the command `sns.histplot(df['median_house_value'], kde=False)`, which is part of the original answer. It captures the purpose of creating a histogram and correctly notes the role of the `kde=False` parameter.\"},\n",
       " {'Relevance': 'RELEVANT',\n",
       "  'Explanation': \"The generated answer accurately reflects the content of the original answer by specifying the built-in function for running 'nvidia-smi' repeatedly using the `-l` option. It also provides an example command that is consistent with the original answer, making it highly relevant and aligned in both context and information.\"},\n",
       " {'Relevance': 'RELEVANT',\n",
       "  'Explanation': \"The generated answer directly addresses the purpose of using a seed value when splitting data for training and validation, aligning well with the original answer's content. Both answers emphasize consistency and reproducibility in data splits and how using a specific seed (like 42) leads to the same results across learners. Additionally, the detail about missing values aligns with the original concern regarding the behavior of data when different seed values are applied.\"},\n",
       " {'Relevance': 'RELEVANT',\n",
       "  'Explanation': 'The generated answer directly addresses the question about the possible workarounds for issues caused by newer versions of protobuf. It includes all relevant points mentioned in the original answer, such as downgrading the protobuf package and setting the environment variable, and it presents them in a clear format. Additionally, the generated answer captures the context of the problem accurately.'},\n",
       " {'Relevance': 'RELEVANT',\n",
       "  'Explanation': 'The generated answer accurately captures the key advice from the original answer regarding the need to restart the Jupyter notebook after installing a package for the imports to work correctly. It provides a clear and relevant solution to the question posed.'},\n",
       " {'Relevance': 'RELEVANT',\n",
       "  'Explanation': 'The generated answer accurately responds to the generated question by explaining how to check column information and memory usage of a pandas DataFrame using the `df.info()` method. It includes all details provided in the original answer, such as the specific information printed, which ensures it is both relevant and similar in content.'},\n",
       " {'Relevance': 'RELEVANT',\n",
       "  'Explanation': 'The generated answer accurately addresses the question about transforming the target variable to a logarithm distribution by explaining when it is necessary (i.e., when the target variable is highly skewed). It aligns well with the original answer, which also emphasizes evaluating the skewness through plotting. Furthermore, it correctly states that this transformation is not required for all machine learning projects. The additional note regarding negative values, while not mentioned in the original answer, adds valuable context.'},\n",
       " {'Relevance': 'RELEVANT',\n",
       "  'Explanation': \"The generated answer accurately explains the role of the seed value in TensorFlow for ensuring reproducibility, closely aligning with the original answer's content. It incorporates the key code snippets and explains their significance in achieving reproducibility in training runs. The connection between setting the seed and reproducibility is clearly established, making the generated answer highly relevant.\"},\n",
       " {'Relevance': 'RELEVANT',\n",
       "  'Explanation': \"The generated answer directly addresses the error related to 'contextfilter' from 'jinja2' when starting a Jupyter notebook, and it provides the exact solution mentioned in the original answer. The command to run is correctly stated and contextually appropriate, ensuring a high level of relevance.\"},\n",
       " {'Relevance': 'PARTLY_RELEVANT',\n",
       "  'Explanation': 'The generated answer provides methods to identify high correlation between features but does not directly address the question of whether correlation should be calculated before or after splitting the data. It also ignores the original question about finding the two most correlated features, focusing instead on general methods for correlation analysis.'},\n",
       " {'Relevance': 'RELEVANT',\n",
       "  'Explanation': 'The generated answer closely mirrors the original answer in both content and context. It provides the same key details about the naming convention of the Dockerfile, emphasizes the importance of not adding an extension, and explains the potential error caused by naming it incorrectly. Overall, it accurately captures the original intent and information.'},\n",
       " {'Relevance': 'NON_RELEVANT',\n",
       "  'Explanation': 'The generated answer is unrelated to the original answer, which discusses accessing a public repository based on homework corrections. The generated content addresses a question about installing a Conda environment and the best IDE for machine learning, which are different topics altogether.'},\n",
       " {'Relevance': 'RELEVANT',\n",
       "  'Explanation': 'The generated answer accurately captures the main points of the original answer. It explains why linear regression does not achieve a perfect fit by emphasizing simplicity and the risk of overfitting, which align with the original explanation. Both answers convey the same core concepts regarding the limitations of linear regression and the importance of generalization.'},\n",
       " {'Relevance': 'RELEVANT',\n",
       "  'Explanation': 'The generated answer directly addresses the question about an alternative to `!ls -lh` in Windows Jupyter Notebook by providing the exact solution mentioned in the original answer, thus maintaining high relevance and similarity.'},\n",
       " {'Relevance': 'RELEVANT',\n",
       "  'Explanation': \"The generated answer directly addresses the issue presented in the original answer by providing the same solution regarding the importance of the 'rescale' option in the augmented ImageDataGenerator. It also explains why this might affect the model's performance, maintaining the original context and information.\"},\n",
       " {'Relevance': 'RELEVANT',\n",
       "  'Explanation': 'The generated answer closely aligns with the original answer, reiterating the importance of rewatching the video and acknowledging the complexity of the topic. It also maintains the context about the ROC AUC being a significant metric in Binary Classification models, providing a comprehensive and accurate response.'},\n",
       " {'Relevance': 'RELEVANT',\n",
       "  'Explanation': 'The generated answer accurately addresses the question about creating a deep copy of a dataframe and mirrors the content of the original answer by explaining the use of the `.copy()` method. It also highlights that changes to the copied dataframe do not affect the original, which is a key point made in the original answer.'},\n",
       " {'Relevance': 'RELEVANT',\n",
       "  'Explanation': \"The generated answer directly addresses the error encountered when using 'pipenv install' and provides an accurate, step-by-step solution similar to the original answer. It includes the necessary error message, instructions on how to modify the Pipfile, and the follow-up command to execute, aligning closely with the context and content of the original response.\"},\n",
       " {'Relevance': 'RELEVANT',\n",
       "  'Explanation': \"The generated answer directly addresses the question about what causes one side of the long tail distribution to have a different area. It accurately reflects the key points from the original answer, specifically mentioning the impact of having a few observations with high values, the change in the distribution's behavior, and the consequences for the mean, median, and mode. Overall, the generated answer captures the essence of the original response and provides a concise explanation.\"},\n",
       " {'Relevance': 'RELEVANT',\n",
       "  'Explanation': \"The generated answer accurately addresses the question regarding the error related to having only class 0 in the data. It correctly identifies the cause of the issue as the transformation of the `df.churn` column and explains how this leads to the error message. Furthermore, it provides a suggestion on how to resolve the error by ensuring that both class values are present in the data, which aligns well with the original answer's content and intent.\"},\n",
       " {'Relevance': 'RELEVANT',\n",
       "  'Explanation': 'The generated answer accurately reflects the information provided in the original answer, stating that students of the previous cohort spent around ~10 hours per week on the course. The context and content are aligned.'},\n",
       " {'Relevance': 'RELEVANT',\n",
       "  'Explanation': 'The generated answer closely follows the original answer, addressing the specific error related to ImageDataGenerator and scipy. It includes all the essential steps mentioned in the original answer, such as checking if scipy is installed and restarting the Jupyter kernel, making it highly relevant to the question posed.'},\n",
       " {'Relevance': 'RELEVANT',\n",
       "  'Explanation': 'The generated answer directly addresses the example of using the COPY command in a Dockerfile, which aligns perfectly with the original answer. It includes the specific command syntax and explains the components involved, providing a clear and relevant response to the generated question.'},\n",
       " {'Relevance': 'RELEVANT',\n",
       "  'Explanation': \"The generated answer accurately describes the meaning of '500m' in Kubernetes CPU limits, fully explains what 'm' stands for, and provides context about milliCPUs allowing for fine-grained control over resources. It directly addresses the question and captures the essence of the original answer.\"},\n",
       " {'Relevance': 'RELEVANT',\n",
       "  'Explanation': 'The generated answer directly addresses the generated question by providing an example command for using `curl` to download a file on macOS. It contains the same command, explanations of the components, and suggests referring to the Curl Documentation, aligning closely with the context of the original answer.'},\n",
       " {'Relevance': 'PARTLY_RELEVANT',\n",
       "  'Explanation': \"The generated answer discusses the importance of handling missing values without causing data leakage, which relates to the original answer's mention of handling `fillna()` before splitting the data. However, it does not address the specific context of preparing multiple dataframes and y_vectors as mentioned in the original answer. Thus, while it captures some relevant points, it lacks comprehensive alignment with the original content.\"},\n",
       " {'Relevance': 'RELEVANT',\n",
       "  'Explanation': 'The generated answer provides a clear and accurate explanation of how to debug a Docker container, directly aligning with the original answer. It includes the same commands and steps, ensuring the content is both relevant and useful for the given question.'},\n",
       " {'Relevance': 'RELEVANT',\n",
       "  'Explanation': 'The generated answer directly addresses the question by providing the same source link as the original answer, making it highly relevant to the inquiry about configuring the environment on a Mac with an M1 chip.'},\n",
       " {'Relevance': 'RELEVANT',\n",
       "  'Explanation': 'The generated answer provides a comprehensive response to the question about deploying a Flask application on AWS Lambda using the AWS Serverless Framework. It accurately summarizes the process of creating a Docker image, pushing it to AWS ECR, and exposing it as a REST API via API Gateway, which aligns well with the information in the original answer. Additionally, it references the same article for detailed instructions, confirming its relevance.'},\n",
       " {'Relevance': 'RELEVANT',\n",
       "  'Explanation': 'The generated answer accurately summarizes the context of the original answer by stating that np.log1p() is beneficial for target variables with a long tail distribution, such as prices. It aligns well with the original content while omitting the caution about negative values, but this does not detract from its overall relevance.'},\n",
       " {'Relevance': 'RELEVANT',\n",
       "  'Explanation': \"The generated answer directly addresses the generated question about finding a guide to install CUDA and cuDNN on a local machine. It provides detailed sections and specific instructions that align well with the original answer's focus on setting up CUDA and cuDNN for TensorFlow. Furthermore, it references a simplified guide by Osman Ali, which is mentioned in the original answer, enhancing its relevance.\"},\n",
       " {'Relevance': 'RELEVANT',\n",
       "  'Explanation': 'The generated answer directly addresses the issue of the deprecated `get_feature_names` method by recommending the use of `.get_feature_names_out()`, which is consistent with the solution provided in the original answer. Additionally, it provides code examples that clarify how to implement the suggested change, aligning well with the original context.'},\n",
       " {'Relevance': 'RELEVANT',\n",
       "  'Explanation': 'The generated answer provides the same basic syntax for copying files in a Dockerfile as mentioned in the original answer. It explains how the command works and includes the specific command example, which aligns closely with the content of the original answer.'},\n",
       " {'Relevance': 'PARTLY_RELEVANT',\n",
       "  'Explanation': \"The generated answer addresses the problem of updating Pipfile and Pipfile.lock dependencies and provides a method to create a virtual environment and use pip freeze, which relates to the original answer. However, it is more focused on resolving an issue rather than simply stating the procedure as in the original, making it not entirely aligned with the original answer's context.\"},\n",
       " {'Relevance': 'NON_RELEVANT',\n",
       "  'Explanation': 'The generated answer does not address or relate to the original answer, which discusses running out of storage on an AWS instance and Docker image management. Instead, it asks for clarification on a question that has not been provided, showing a complete disconnect from the context of the original content.'},\n",
       " {'Relevance': 'RELEVANT',\n",
       "  'Explanation': \"The generated answer effectively summarizes the key points from the original answer, including a description of the 'workers' parameter, its default value, and the recommendation to experiment with different values. Additionally, it provides a direct link to the TensorFlow documentation, which aligns with the request for more information.\"},\n",
       " {'Relevance': 'RELEVANT',\n",
       "  'Explanation': 'The generated answer accurately describes how to shuffle a complete dataset using the pandas `DataFrame.sample` function. It includes key details from the original answer, such as setting `frac=1` for complete shuffling, the use of `random_state` for reproducibility, and resetting the index. The step-by-step guide format enhances clarity while maintaining the essential information and code provided in the original answer.'},\n",
       " {'Relevance': 'RELEVANT',\n",
       "  'Explanation': \"The generated answer directly addresses the question regarding the difference in accuracy by explaining how the method of data splitting affects the results. It accurately reflects the original answer's content about the importance of splitting data into training, validation, and test sets and recommends the same second method for achieving consistency with the homework options. Thus, it maintains both content relevance and contextual alignment.\"},\n",
       " {'Relevance': 'RELEVANT',\n",
       "  'Explanation': \"The generated answer closely follows the instructions provided in the original answer. It addresses the user's question by outlining the steps needed to configure the console for pushing Docker images to Google Container Registry, specifically detailing the installation of the Google Cloud SDK and the command to configure Docker authentication. The content is consistent and effectively communicates the same information as the original answer.\"},\n",
       " {'Relevance': 'RELEVANT',\n",
       "  'Explanation': 'The generated answer accurately explains how to calculate the RMSE score using Python, closely following the steps and details outlined in the original answer. It includes the same library imports and provides equivalent code snippets, making it directly relevant to the question asked.'},\n",
       " {'Relevance': 'RELEVANT',\n",
       "  'Explanation': \"The generated answer directly addresses the issue of GitHub's removal of password authentication and provides the correct solution of creating a personal access token. It includes detailed steps and relevant links, aligning closely with the information given in the original answer.\"},\n",
       " {'Relevance': 'RELEVANT',\n",
       "  'Explanation': 'The generated answer directly addresses the user’s question about instructions to install TensorFlow GPU on Ubuntu and references the original article as a source for those instructions. The content is aligned with the original answer, providing both the link and relevant context.'},\n",
       " {'Relevance': 'RELEVANT',\n",
       "  'Explanation': \"The generated answer accurately explains the role of 'y_true' in calculating the AUC score using sklearn, aligning closely with the original answer. It describes the expected parameters and the function's purpose clearly, capturing the context and details essential for understanding.\"},\n",
       " {'Relevance': 'RELEVANT',\n",
       "  'Explanation': 'The generated answer accurately summarizes the original answer, detailing the steps taken by Quinn Avila to resolve the issue with Jupyter notebook not recognizing the import after installing Pillow. It correctly captures the sequence of events and provides clarity on the actions taken, thus making it fully relevant.'},\n",
       " {'Relevance': 'PARTLY_RELEVANT',\n",
       "  'Explanation': 'The generated answer addresses one of the key modifications made to the median_house_value target, which is converting it to binary format for mutual information score calculation. However, it introduces an additional modification (a log transformation) that was not mentioned in the original answer, making the overall response partially relevant since it does not fully correspond to the original context.'}]"
      ]
     },
     "execution_count": 38,
     "metadata": {},
     "output_type": "execute_result"
    }
   ],
   "source": [
    "json_evaluations"
   ]
  },
  {
   "cell_type": "code",
   "execution_count": 40,
   "id": "5c48628e-320d-4605-8360-97518296f8f1",
   "metadata": {},
   "outputs": [
    {
     "data": {
      "text/plain": [
       "Relevance\n",
       "RELEVANT           127\n",
       "PARTLY_RELEVANT     16\n",
       "NON_RELEVANT         7\n",
       "Name: count, dtype: int64"
      ]
     },
     "execution_count": 40,
     "metadata": {},
     "output_type": "execute_result"
    }
   ],
   "source": [
    "df_evaluations = pd.DataFrame(json_evaluations)\n",
    "df_evaluations.Relevance.value_counts()"
   ]
  },
  {
   "cell_type": "code",
   "execution_count": 41,
   "id": "f8b103f8-28cd-4c0a-9f12-9ba1399e3572",
   "metadata": {},
   "outputs": [
    {
     "data": {
      "text/html": [
       "<div>\n",
       "<style scoped>\n",
       "    .dataframe tbody tr th:only-of-type {\n",
       "        vertical-align: middle;\n",
       "    }\n",
       "\n",
       "    .dataframe tbody tr th {\n",
       "        vertical-align: top;\n",
       "    }\n",
       "\n",
       "    .dataframe thead th {\n",
       "        text-align: right;\n",
       "    }\n",
       "</style>\n",
       "<table border=\"1\" class=\"dataframe\">\n",
       "  <thead>\n",
       "    <tr style=\"text-align: right;\">\n",
       "      <th></th>\n",
       "      <th>Relevance</th>\n",
       "      <th>Explanation</th>\n",
       "    </tr>\n",
       "  </thead>\n",
       "  <tbody>\n",
       "    <tr>\n",
       "      <th>11</th>\n",
       "      <td>NON_RELEVANT</td>\n",
       "      <td>The generated answer does not directly address...</td>\n",
       "    </tr>\n",
       "    <tr>\n",
       "      <th>41</th>\n",
       "      <td>NON_RELEVANT</td>\n",
       "      <td>The generated answer addresses how to set up a...</td>\n",
       "    </tr>\n",
       "    <tr>\n",
       "      <th>58</th>\n",
       "      <td>NON_RELEVANT</td>\n",
       "      <td>The generated answer directly contradicts the ...</td>\n",
       "    </tr>\n",
       "    <tr>\n",
       "      <th>90</th>\n",
       "      <td>NON_RELEVANT</td>\n",
       "      <td>The generated answer addresses a completely di...</td>\n",
       "    </tr>\n",
       "    <tr>\n",
       "      <th>93</th>\n",
       "      <td>NON_RELEVANT</td>\n",
       "      <td>The generated answer mentions a specific perso...</td>\n",
       "    </tr>\n",
       "    <tr>\n",
       "      <th>116</th>\n",
       "      <td>NON_RELEVANT</td>\n",
       "      <td>The generated answer is unrelated to the origi...</td>\n",
       "    </tr>\n",
       "    <tr>\n",
       "      <th>139</th>\n",
       "      <td>NON_RELEVANT</td>\n",
       "      <td>The generated answer does not address or relat...</td>\n",
       "    </tr>\n",
       "  </tbody>\n",
       "</table>\n",
       "</div>"
      ],
      "text/plain": [
       "        Relevance                                        Explanation\n",
       "11   NON_RELEVANT  The generated answer does not directly address...\n",
       "41   NON_RELEVANT  The generated answer addresses how to set up a...\n",
       "58   NON_RELEVANT  The generated answer directly contradicts the ...\n",
       "90   NON_RELEVANT  The generated answer addresses a completely di...\n",
       "93   NON_RELEVANT  The generated answer mentions a specific perso...\n",
       "116  NON_RELEVANT  The generated answer is unrelated to the origi...\n",
       "139  NON_RELEVANT  The generated answer does not address or relat..."
      ]
     },
     "execution_count": 41,
     "metadata": {},
     "output_type": "execute_result"
    }
   ],
   "source": [
    "df_evaluations[df_evaluations.Relevance == 'NON_RELEVANT']"
   ]
  },
  {
   "cell_type": "code",
   "execution_count": 42,
   "id": "27fedd2c-b044-4a87-beda-355e9b1f5a88",
   "metadata": {},
   "outputs": [
    {
     "data": {
      "application/vnd.jupyter.widget-view+json": {
       "model_id": "b6a3a21aa13d41a49f70f043986293bf",
       "version_major": 2,
       "version_minor": 0
      },
      "text/plain": [
       "  0%|          | 0/150 [00:00<?, ?it/s]"
      ]
     },
     "metadata": {},
     "output_type": "display_data"
    }
   ],
   "source": [
    "evaluations_2 = []\n",
    "\n",
    "for record in tqdm(samples):\n",
    "    prompt = prompt2_template.format(**record)\n",
    "    evaluation = llm(prompt, model='gpt-4o-mini')\n",
    "    evaluations_2.append(evaluation)"
   ]
  },
  {
   "cell_type": "code",
   "execution_count": 43,
   "id": "b39d6edc-9958-4ee6-bc67-5881e0cc2ee8",
   "metadata": {},
   "outputs": [
    {
     "data": {
      "text/html": [
       "<div>\n",
       "<style scoped>\n",
       "    .dataframe tbody tr th:only-of-type {\n",
       "        vertical-align: middle;\n",
       "    }\n",
       "\n",
       "    .dataframe tbody tr th {\n",
       "        vertical-align: top;\n",
       "    }\n",
       "\n",
       "    .dataframe thead th {\n",
       "        text-align: right;\n",
       "    }\n",
       "</style>\n",
       "<table border=\"1\" class=\"dataframe\">\n",
       "  <thead>\n",
       "    <tr style=\"text-align: right;\">\n",
       "      <th></th>\n",
       "      <th>Relevance</th>\n",
       "      <th>Explanation</th>\n",
       "    </tr>\n",
       "  </thead>\n",
       "  <tbody>\n",
       "    <tr>\n",
       "      <th>102</th>\n",
       "      <td>NON_RELEVANT</td>\n",
       "      <td>The generated answer mentions importing a 'pin...</td>\n",
       "    </tr>\n",
       "    <tr>\n",
       "      <th>139</th>\n",
       "      <td>NON_RELEVANT</td>\n",
       "      <td>The generated answer asks for clarification re...</td>\n",
       "    </tr>\n",
       "  </tbody>\n",
       "</table>\n",
       "</div>"
      ],
      "text/plain": [
       "        Relevance                                        Explanation\n",
       "102  NON_RELEVANT  The generated answer mentions importing a 'pin...\n",
       "139  NON_RELEVANT  The generated answer asks for clarification re..."
      ]
     },
     "execution_count": 43,
     "metadata": {},
     "output_type": "execute_result"
    }
   ],
   "source": [
    "json_evaluations_2 = []\n",
    "\n",
    "for i, str_eval in enumerate(evaluations_2):\n",
    "    json_eval = json.loads(str_eval)\n",
    "    json_evaluations_2.append(json_eval)\n",
    "\n",
    "df_evaluations_2 = pd.DataFrame(json_evaluations_2)\n",
    "df_evaluations_2[df_evaluations_2.Relevance == 'NON_RELEVANT']"
   ]
  },
  {
   "cell_type": "code",
   "execution_count": null,
   "id": "cacf51b1-b87d-43ac-aaf1-14fc27a4c87b",
   "metadata": {},
   "outputs": [],
   "source": []
  }
 ],
 "metadata": {
  "kernelspec": {
   "display_name": "Python 3 (ipykernel)",
   "language": "python",
   "name": "python3"
  },
  "language_info": {
   "codemirror_mode": {
    "name": "ipython",
    "version": 3
   },
   "file_extension": ".py",
   "mimetype": "text/x-python",
   "name": "python",
   "nbconvert_exporter": "python",
   "pygments_lexer": "ipython3",
   "version": "3.12.4"
  }
 },
 "nbformat": 4,
 "nbformat_minor": 5
}
