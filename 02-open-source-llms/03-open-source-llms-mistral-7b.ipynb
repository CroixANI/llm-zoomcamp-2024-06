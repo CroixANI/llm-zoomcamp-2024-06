{
 "cells": [
  {
   "cell_type": "code",
   "execution_count": 1,
   "id": "1959fe8c-99a3-434f-9d5f-4c883728f1a6",
   "metadata": {
    "execution": {
     "iopub.execute_input": "2024-07-07T18:10:34.451603Z",
     "iopub.status.busy": "2024-07-07T18:10:34.451201Z",
     "iopub.status.idle": "2024-07-07T18:10:34.458609Z",
     "shell.execute_reply": "2024-07-07T18:10:34.457686Z",
     "shell.execute_reply.started": "2024-07-07T18:10:34.451574Z"
    },
    "tags": []
   },
   "outputs": [],
   "source": [
    "import os\n",
    "os.environ['HF_HOME'] = '/run/cache/'"
   ]
  },
  {
   "cell_type": "code",
   "execution_count": 2,
   "id": "484b960e-9bdf-4e6a-8482-90305763dd8c",
   "metadata": {
    "execution": {
     "iopub.execute_input": "2024-07-07T18:10:43.279640Z",
     "iopub.status.busy": "2024-07-07T18:10:43.279240Z",
     "iopub.status.idle": "2024-07-07T18:10:43.298079Z",
     "shell.execute_reply": "2024-07-07T18:10:43.297253Z",
     "shell.execute_reply.started": "2024-07-07T18:10:43.279613Z"
    },
    "tags": []
   },
   "outputs": [
    {
     "data": {
      "text/plain": [
       "{'text': \"The purpose of this document is to capture frequently asked technical questions\\nThe exact day and hour of the course will be 15th Jan 2024 at 17h00. The course will start with the first  “Office Hours'' live.1\\nSubscribe to course public Google Calendar (it works from Desktop only).\\nRegister before the course starts using this link.\\nJoin the course Telegram channel with announcements.\\nDon’t forget to register in DataTalks.Club's Slack and join the channel.\",\n",
       " 'section': 'General course-related questions',\n",
       " 'question': 'Course - When will the course start?',\n",
       " 'course': 'data-engineering-zoomcamp'}"
      ]
     },
     "execution_count": 2,
     "metadata": {},
     "output_type": "execute_result"
    }
   ],
   "source": [
    "import json\n",
    "\n",
    "with open('../01-intro/documents.json', 'rt') as f_in:\n",
    "    docs_raw = json.load(f_in)\n",
    "\n",
    "documents = []\n",
    "\n",
    "for course_dic in docs_raw:\n",
    "    for doc in course_dic['documents']:\n",
    "        doc['course'] = course_dic['course']\n",
    "        documents.append(doc)\n",
    "\n",
    "documents[0]"
   ]
  },
  {
   "cell_type": "code",
   "execution_count": 3,
   "id": "cea89519-255e-4fa1-856d-92b678a6c0f7",
   "metadata": {
    "execution": {
     "iopub.execute_input": "2024-07-07T18:10:46.783565Z",
     "iopub.status.busy": "2024-07-07T18:10:46.783166Z",
     "iopub.status.idle": "2024-07-07T18:10:50.050268Z",
     "shell.execute_reply": "2024-07-07T18:10:50.049318Z",
     "shell.execute_reply.started": "2024-07-07T18:10:46.783536Z"
    },
    "tags": []
   },
   "outputs": [
    {
     "data": {
      "text/plain": [
       "<minsearch.Index at 0x7f520db35370>"
      ]
     },
     "execution_count": 3,
     "metadata": {},
     "output_type": "execute_result"
    }
   ],
   "source": [
    "import minsearch\n",
    "index = minsearch.Index(\n",
    "    text_fields=[\"question\", \"text\", \"section\"],\n",
    "    keyword_fields=[\"course\"]\n",
    ")\n",
    "index.fit(documents)"
   ]
  },
  {
   "cell_type": "code",
   "execution_count": 6,
   "id": "1adc497c-b42a-462e-9126-f3960bc62a6e",
   "metadata": {
    "execution": {
     "iopub.execute_input": "2024-07-07T18:12:12.406362Z",
     "iopub.status.busy": "2024-07-07T18:12:12.405931Z",
     "iopub.status.idle": "2024-07-07T18:12:12.410040Z",
     "shell.execute_reply": "2024-07-07T18:12:12.409195Z",
     "shell.execute_reply.started": "2024-07-07T18:12:12.406333Z"
    },
    "tags": []
   },
   "outputs": [],
   "source": [
    "# https://huggingface.co/docs/transformers/en/llm_tutorial\n",
    "from transformers import AutoModelForCausalLM\n",
    "from transformers import AutoTokenizer"
   ]
  },
  {
   "cell_type": "code",
   "execution_count": 8,
   "id": "40688ec9-566b-47da-bdf7-411cae8908bf",
   "metadata": {
    "execution": {
     "iopub.execute_input": "2024-07-07T18:13:32.859098Z",
     "iopub.status.busy": "2024-07-07T18:13:32.858515Z",
     "iopub.status.idle": "2024-07-07T18:13:32.864175Z",
     "shell.execute_reply": "2024-07-07T18:13:32.863271Z",
     "shell.execute_reply.started": "2024-07-07T18:13:32.859059Z"
    },
    "tags": []
   },
   "outputs": [],
   "source": [
    "from huggingface_hub import login"
   ]
  },
  {
   "cell_type": "code",
   "execution_count": 9,
   "id": "abd181fb-a2cf-4272-b9b4-922da54c2e48",
   "metadata": {
    "execution": {
     "iopub.execute_input": "2024-07-07T18:13:48.111690Z",
     "iopub.status.busy": "2024-07-07T18:13:48.111232Z",
     "iopub.status.idle": "2024-07-07T18:13:48.179006Z",
     "shell.execute_reply": "2024-07-07T18:13:48.177998Z",
     "shell.execute_reply.started": "2024-07-07T18:13:48.111646Z"
    },
    "tags": []
   },
   "outputs": [
    {
     "name": "stdout",
     "output_type": "stream",
     "text": [
      "The token has not been saved to the git credentials helper. Pass `add_to_git_credential=True` in this function directly or `--add-to-git-credential` if using via `huggingface-cli` if you want to set the git credential as well.\n",
      "Token is valid (permission: read).\n",
      "Your token has been saved to /run/cache/token\n",
      "Login successful\n"
     ]
    }
   ],
   "source": [
    "login(token=os.environ['HF_TOKEN'])"
   ]
  },
  {
   "cell_type": "code",
   "execution_count": 10,
   "id": "9fbe6be6-7331-4ed2-a9b1-3674dfc64a41",
   "metadata": {
    "execution": {
     "iopub.execute_input": "2024-07-07T18:14:39.713694Z",
     "iopub.status.busy": "2024-07-07T18:14:39.713271Z",
     "iopub.status.idle": "2024-07-07T18:18:10.860455Z",
     "shell.execute_reply": "2024-07-07T18:18:10.859584Z",
     "shell.execute_reply.started": "2024-07-07T18:14:39.713664Z"
    },
    "tags": []
   },
   "outputs": [
    {
     "data": {
      "application/vnd.jupyter.widget-view+json": {
       "model_id": "015037d0e74447e9a7caa986e41b71a1",
       "version_major": 2,
       "version_minor": 0
      },
      "text/plain": [
       "config.json:   0%|          | 0.00/571 [00:00<?, ?B/s]"
      ]
     },
     "metadata": {},
     "output_type": "display_data"
    },
    {
     "name": "stderr",
     "output_type": "stream",
     "text": [
      "The `load_in_4bit` and `load_in_8bit` arguments are deprecated and will be removed in the future versions. Please, pass a `BitsAndBytesConfig` object in `quantization_config` argument instead.\n"
     ]
    },
    {
     "data": {
      "application/vnd.jupyter.widget-view+json": {
       "model_id": "97bcb25b31ba4f07aa11985670f4b52b",
       "version_major": 2,
       "version_minor": 0
      },
      "text/plain": [
       "model.safetensors.index.json:   0%|          | 0.00/25.1k [00:00<?, ?B/s]"
      ]
     },
     "metadata": {},
     "output_type": "display_data"
    },
    {
     "data": {
      "application/vnd.jupyter.widget-view+json": {
       "model_id": "430de295f70c4c4c8aee71d403637d0a",
       "version_major": 2,
       "version_minor": 0
      },
      "text/plain": [
       "Downloading shards:   0%|          | 0/2 [00:00<?, ?it/s]"
      ]
     },
     "metadata": {},
     "output_type": "display_data"
    },
    {
     "data": {
      "application/vnd.jupyter.widget-view+json": {
       "model_id": "7f2204a5aa0a41a385680e4ac16dfac5",
       "version_major": 2,
       "version_minor": 0
      },
      "text/plain": [
       "model-00001-of-00002.safetensors:   0%|          | 0.00/9.94G [00:00<?, ?B/s]"
      ]
     },
     "metadata": {},
     "output_type": "display_data"
    },
    {
     "data": {
      "application/vnd.jupyter.widget-view+json": {
       "model_id": "55f0592d742346efaf1012ddcc6df558",
       "version_major": 2,
       "version_minor": 0
      },
      "text/plain": [
       "model-00002-of-00002.safetensors:   0%|          | 0.00/4.54G [00:00<?, ?B/s]"
      ]
     },
     "metadata": {},
     "output_type": "display_data"
    },
    {
     "data": {
      "application/vnd.jupyter.widget-view+json": {
       "model_id": "162d70a9eb8047f9b92be2e3fb1a5041",
       "version_major": 2,
       "version_minor": 0
      },
      "text/plain": [
       "Loading checkpoint shards:   0%|          | 0/2 [00:00<?, ?it/s]"
      ]
     },
     "metadata": {},
     "output_type": "display_data"
    },
    {
     "data": {
      "application/vnd.jupyter.widget-view+json": {
       "model_id": "dda50436c0f74e7db7acd810a6255cb8",
       "version_major": 2,
       "version_minor": 0
      },
      "text/plain": [
       "generation_config.json:   0%|          | 0.00/116 [00:00<?, ?B/s]"
      ]
     },
     "metadata": {},
     "output_type": "display_data"
    },
    {
     "data": {
      "application/vnd.jupyter.widget-view+json": {
       "model_id": "d0d672c5508243758bc4d7f60edde156",
       "version_major": 2,
       "version_minor": 0
      },
      "text/plain": [
       "tokenizer_config.json:   0%|          | 0.00/996 [00:00<?, ?B/s]"
      ]
     },
     "metadata": {},
     "output_type": "display_data"
    },
    {
     "data": {
      "application/vnd.jupyter.widget-view+json": {
       "model_id": "aeefa4f4f847424a9bdea9978c8ba0ea",
       "version_major": 2,
       "version_minor": 0
      },
      "text/plain": [
       "tokenizer.model:   0%|          | 0.00/493k [00:00<?, ?B/s]"
      ]
     },
     "metadata": {},
     "output_type": "display_data"
    },
    {
     "data": {
      "application/vnd.jupyter.widget-view+json": {
       "model_id": "b0a6a1ddf1e04c07928bc2fd6f34ef57",
       "version_major": 2,
       "version_minor": 0
      },
      "text/plain": [
       "tokenizer.json:   0%|          | 0.00/1.80M [00:00<?, ?B/s]"
      ]
     },
     "metadata": {},
     "output_type": "display_data"
    },
    {
     "data": {
      "application/vnd.jupyter.widget-view+json": {
       "model_id": "8325484979b4495b8d7fe70bd668b07b",
       "version_major": 2,
       "version_minor": 0
      },
      "text/plain": [
       "special_tokens_map.json:   0%|          | 0.00/414 [00:00<?, ?B/s]"
      ]
     },
     "metadata": {},
     "output_type": "display_data"
    }
   ],
   "source": [
    "model = AutoModelForCausalLM.from_pretrained(\n",
    "    \"mistralai/Mistral-7B-v0.1\", device_map=\"auto\", load_in_4bit=True\n",
    ")\n",
    "\n",
    "tokenizer = AutoTokenizer.from_pretrained(\"mistralai/Mistral-7B-v0.1\", padding_side=\"left\")"
   ]
  },
  {
   "cell_type": "code",
   "execution_count": 11,
   "id": "117615f9-039d-4803-af04-5921ca7a84c5",
   "metadata": {
    "execution": {
     "iopub.execute_input": "2024-07-07T18:18:30.560575Z",
     "iopub.status.busy": "2024-07-07T18:18:30.560123Z",
     "iopub.status.idle": "2024-07-07T18:18:31.798620Z",
     "shell.execute_reply": "2024-07-07T18:18:31.797946Z",
     "shell.execute_reply.started": "2024-07-07T18:18:30.560540Z"
    },
    "tags": []
   },
   "outputs": [],
   "source": [
    "from transformers import pipeline\n",
    "generator = pipeline(\"text-generation\", model=model, tokenizer=tokenizer)"
   ]
  },
  {
   "cell_type": "code",
   "execution_count": 16,
   "id": "52348435-f7f8-401f-a8fb-914a193e86f6",
   "metadata": {
    "execution": {
     "iopub.execute_input": "2024-07-07T18:24:15.239030Z",
     "iopub.status.busy": "2024-07-07T18:24:15.238634Z",
     "iopub.status.idle": "2024-07-07T18:24:15.246359Z",
     "shell.execute_reply": "2024-07-07T18:24:15.245527Z",
     "shell.execute_reply.started": "2024-07-07T18:24:15.238998Z"
    },
    "tags": []
   },
   "outputs": [],
   "source": [
    "def build_prompt(query, search_results):\n",
    "    prompt_template = \"\"\"\n",
    "QUESTION: {question}\n",
    "\n",
    "CONTEXT:\n",
    "{context}\n",
    "\n",
    "ANSWER:\n",
    "\"\"\".strip()\n",
    "\n",
    "    context = \"\"\n",
    "    \n",
    "    for doc in search_results:\n",
    "        context = context + f\"{doc['question']}\\n{doc['text']}\\n\\n\"\n",
    "    \n",
    "    prompt = prompt_template.format(question=query, context=context).strip()\n",
    "    return prompt\n",
    "\n",
    "def search(query):\n",
    "    boost = {'question': 3.0, 'section': 0.5}\n",
    "\n",
    "    results = index.search(\n",
    "        query=query,\n",
    "        filter_dict={'course': 'data-engineering-zoomcamp'},\n",
    "        boost_dict=boost,\n",
    "        num_results=3\n",
    "    )\n",
    "\n",
    "    return results\n",
    "\n",
    "def llm(prompt):\n",
    "    response = generator(prompt, max_length=500, temperature=0.7, top_p=0.95, num_return_sequences=1)\n",
    "    response_final = response[0]['generated_text']\n",
    "    return response_final[len(prompt):].strip()\n",
    "\n",
    "def rag(query):\n",
    "    search_results = search(query)\n",
    "    prompt = build_prompt(query, search_results)\n",
    "    answer = llm(prompt)\n",
    "    return answer"
   ]
  },
  {
   "cell_type": "code",
   "execution_count": 17,
   "id": "0948454b-006f-4cff-8b3e-14c058c67b05",
   "metadata": {
    "execution": {
     "iopub.execute_input": "2024-07-07T18:24:33.910409Z",
     "iopub.status.busy": "2024-07-07T18:24:33.909974Z",
     "iopub.status.idle": "2024-07-07T18:24:50.501106Z",
     "shell.execute_reply": "2024-07-07T18:24:50.500093Z",
     "shell.execute_reply.started": "2024-07-07T18:24:33.910378Z"
    },
    "tags": []
   },
   "outputs": [
    {
     "name": "stderr",
     "output_type": "stream",
     "text": [
      "/opt/saturncloud/envs/saturn/lib/python3.9/site-packages/transformers/generation/configuration_utils.py:540: UserWarning: `do_sample` is set to `False`. However, `temperature` is set to `0.7` -- this flag is only used in sample-based generation modes. You should set `do_sample=True` or unset `temperature`.\n",
      "  warnings.warn(\n",
      "/opt/saturncloud/envs/saturn/lib/python3.9/site-packages/transformers/generation/configuration_utils.py:545: UserWarning: `do_sample` is set to `False`. However, `top_p` is set to `0.95` -- this flag is only used in sample-based generation modes. You should set `do_sample=True` or unset `top_p`.\n",
      "  warnings.warn(\n",
      "Setting `pad_token_id` to `eos_token_id`:2 for open-end generation.\n"
     ]
    },
    {
     "data": {
      "text/plain": [
       "'Yes, you can still join the course.'"
      ]
     },
     "execution_count": 17,
     "metadata": {},
     "output_type": "execute_result"
    }
   ],
   "source": [
    "rag(\"I just discovered the course. Can I still join it?\")"
   ]
  }
 ],
 "metadata": {
  "kernelspec": {
   "display_name": "saturn (Python 3)",
   "language": "python",
   "name": "python3"
  },
  "language_info": {
   "codemirror_mode": {
    "name": "ipython",
    "version": 3
   },
   "file_extension": ".py",
   "mimetype": "text/x-python",
   "name": "python",
   "nbconvert_exporter": "python",
   "pygments_lexer": "ipython3",
   "version": "3.9.18"
  }
 },
 "nbformat": 4,
 "nbformat_minor": 5
}
