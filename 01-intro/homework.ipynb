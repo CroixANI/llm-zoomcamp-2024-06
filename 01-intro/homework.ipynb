{
 "cells": [
  {
   "cell_type": "code",
   "execution_count": 1,
   "id": "f358e30f-13a7-45b7-9b83-063ec907e25d",
   "metadata": {},
   "outputs": [],
   "source": [
    "from openai import OpenAI\n",
    "client = OpenAI()"
   ]
  },
  {
   "cell_type": "code",
   "execution_count": 2,
   "id": "0174c5cb-6b7a-4251-ba84-40b770d3c3ca",
   "metadata": {
    "scrolled": true
   },
   "outputs": [
    {
     "data": {
      "text/plain": [
       "environ{'SHELL': '/bin/bash',\n",
       "        'NVM_RC_VERSION': '',\n",
       "        'COLORTERM': 'truecolor',\n",
       "        'TERM_PROGRAM_VERSION': '1.89.1',\n",
       "        'ELASTICSEARCH_HOST': 'http://elasticsearch:9200',\n",
       "        'PIPENV_ACTIVE': '1',\n",
       "        'HOSTNAME': 'a3c5beebf94f',\n",
       "        'PYTHON_VERSION': '3.12.3',\n",
       "        'SSH_AUTH_SOCK': '/tmp/vscode-ssh-auth-081d7374-5a23-4744-9e9a-0bee3dd0b300.sock',\n",
       "        'OPENAI_API_KEY': 'sk-llm-zoomcamp-account-ZadKiM1hm1CGVETP6aaoT3BlbkFJt5QW3XQqtEk6ILPlAc9K',\n",
       "        'REMOTE_CONTAINERS_IPC': '/tmp/vscode-remote-containers-ipc-081d7374-5a23-4744-9e9a-0bee3dd0b300.sock',\n",
       "        'PIPX_BIN_DIR': '/usr/local/py-utils/bin',\n",
       "        'PWD': '/workspaces/llm-zoomcamp-2024-06',\n",
       "        'VSCODE_GIT_ASKPASS_NODE': '/vscode/vscode-server/bin/linux-arm64/dc96b837cf6bb4af9cd736aa3af08cf8279f7685/node',\n",
       "        'PIP_PYTHON_PATH': '/home/vscode/.local/share/virtualenvs/llm-zoomcamp-2024-06-AewTI3k1/bin/python',\n",
       "        'HOME': '/home/vscode',\n",
       "        'LANG': 'C.UTF-8',\n",
       "        'WORKDIR': '/app/',\n",
       "        'LS_COLORS': 'rs=0:di=01;34:ln=01;36:mh=00:pi=40;33:so=01;35:do=01;35:bd=40;33;01:cd=40;33;01:or=40;31;01:mi=00:su=37;41:sg=30;43:ca=30;41:tw=30;42:ow=34;42:st=37;44:ex=01;32:*.tar=01;31:*.tgz=01;31:*.arc=01;31:*.arj=01;31:*.taz=01;31:*.lha=01;31:*.lz4=01;31:*.lzh=01;31:*.lzma=01;31:*.tlz=01;31:*.txz=01;31:*.tzo=01;31:*.t7z=01;31:*.zip=01;31:*.z=01;31:*.dz=01;31:*.gz=01;31:*.lrz=01;31:*.lz=01;31:*.lzo=01;31:*.xz=01;31:*.zst=01;31:*.tzst=01;31:*.bz2=01;31:*.bz=01;31:*.tbz=01;31:*.tbz2=01;31:*.tz=01;31:*.deb=01;31:*.rpm=01;31:*.jar=01;31:*.war=01;31:*.ear=01;31:*.sar=01;31:*.rar=01;31:*.alz=01;31:*.ace=01;31:*.zoo=01;31:*.cpio=01;31:*.7z=01;31:*.rz=01;31:*.cab=01;31:*.wim=01;31:*.swm=01;31:*.dwm=01;31:*.esd=01;31:*.jpg=01;35:*.jpeg=01;35:*.mjpg=01;35:*.mjpeg=01;35:*.gif=01;35:*.bmp=01;35:*.pbm=01;35:*.pgm=01;35:*.ppm=01;35:*.tga=01;35:*.xbm=01;35:*.xpm=01;35:*.tif=01;35:*.tiff=01;35:*.png=01;35:*.svg=01;35:*.svgz=01;35:*.mng=01;35:*.pcx=01;35:*.mov=01;35:*.mpg=01;35:*.mpeg=01;35:*.m2v=01;35:*.mkv=01;35:*.webm=01;35:*.webp=01;35:*.ogm=01;35:*.mp4=01;35:*.m4v=01;35:*.mp4v=01;35:*.vob=01;35:*.qt=01;35:*.nuv=01;35:*.wmv=01;35:*.asf=01;35:*.rm=01;35:*.rmvb=01;35:*.flc=01;35:*.avi=01;35:*.fli=01;35:*.flv=01;35:*.gl=01;35:*.dl=01;35:*.xcf=01;35:*.xwd=01;35:*.yuv=01;35:*.cgm=01;35:*.emf=01;35:*.ogv=01;35:*.ogx=01;35:*.aac=00;36:*.au=00;36:*.flac=00;36:*.m4a=00;36:*.mid=00;36:*.midi=00;36:*.mka=00;36:*.mp3=00;36:*.mpc=00;36:*.ogg=00;36:*.ra=00;36:*.wav=00;36:*.oga=00;36:*.opus=00;36:*.spx=00;36:*.xspf=00;36:',\n",
       "        'NVM_SYMLINK_CURRENT': 'true',\n",
       "        'VIRTUAL_ENV': '/home/vscode/.local/share/virtualenvs/llm-zoomcamp-2024-06-AewTI3k1',\n",
       "        'REMOTE_CONTAINERS': 'true',\n",
       "        'GPG_KEY': '7169605F62C751356D054A26A821E680E5FA6305',\n",
       "        'GIT_ASKPASS': '/vscode/vscode-server/bin/linux-arm64/dc96b837cf6bb4af9cd736aa3af08cf8279f7685/extensions/git/dist/askpass.sh',\n",
       "        'PYTHON_PATH': '/usr/local/python/current',\n",
       "        'NVM_DIR': '/usr/local/share/nvm',\n",
       "        'VSCODE_GIT_ASKPASS_EXTRA_ARGS': '',\n",
       "        'PYTHONFINDER_IGNORE_UNSUPPORTED': '1',\n",
       "        'TERM': 'xterm-color',\n",
       "        'REMOTE_CONTAINERS_SOCKETS': '[\"/tmp/vscode-ssh-auth-081d7374-5a23-4744-9e9a-0bee3dd0b300.sock\"]',\n",
       "        'USER': 'vscode',\n",
       "        'PIP_DISABLE_PIP_VERSION_CHECK': '1',\n",
       "        'VSCODE_GIT_IPC_HANDLE': '/tmp/vscode-git-addfb63a0d.sock',\n",
       "        'PIPX_HOME': '/usr/local/py-utils',\n",
       "        'SHLVL': '3',\n",
       "        'NVM_CD_FLAGS': '',\n",
       "        'GIT_EDITOR': 'code --wait',\n",
       "        'PROMPT_DIRTRIM': '4',\n",
       "        'PYTHON_PIP_VERSION': '24.0',\n",
       "        'VIRTUAL_ENV_PROMPT': 'llm-zoomcamp-2024-06',\n",
       "        'PYTHONDONTWRITEBYTECODE': '1',\n",
       "        'PYTHON_GET_PIP_SHA256': 'dfe9fd5c28dc98b5ac17979a953ea550cec37ae1b47a5116007395bfacff2ab9',\n",
       "        'PS1': '(llm-zoomcamp-2024-06) `export XIT=$? \\\\\\n        && [ ! -z \"${GITHUB_USER}\" ] && echo -n \"\\\\[\\\\033[0;32m\\\\]@${GITHUB_USER} \" || echo -n \"\\\\[\\\\033[0;32m\\\\]\\\\u \" \\\\\\n        && [ \"$XIT\" -ne \"0\" ] && echo -n \"\\\\[\\\\033[1;31m\\\\]➜\" || echo -n \"\\\\[\\\\033[0m\\\\]➜\"` \\\\[\\\\033[1;34m\\\\]\\\\w `\\\\\\n        if [ \"$(git config --get devcontainers-theme.hide-status 2>/dev/null)\" != 1 ] && [ \"$(git config --get codespaces-theme.hide-status 2>/dev/null)\" != 1 ]; then \\\\\\n            export BRANCH=$(git --no-optional-locks symbolic-ref --short HEAD 2>/dev/null || git --no-optional-locks rev-parse --short HEAD 2>/dev/null); \\\\\\n            if [ \"${BRANCH}\" != \"\" ]; then \\\\\\n                echo -n \"\\\\[\\\\033[0;36m\\\\](\\\\[\\\\033[1;31m\\\\]${BRANCH}\" \\\\\\n                && if [ \"$(git config --get devcontainers-theme.show-dirty 2>/dev/null)\" = 1 ] && \\\\\\n                    git --no-optional-locks ls-files --error-unmatch -m --directory --no-empty-directory -o --exclude-standard \":/*\" > /dev/null 2>&1; then \\\\\\n                        echo -n \" \\\\[\\\\033[1;33m\\\\]✗\"; \\\\\\n                fi \\\\\\n                && echo -n \"\\\\[\\\\033[0;36m\\\\]) \"; \\\\\\n            fi; \\\\\\n        fi`\\\\[\\\\033[0m\\\\]$ ',\n",
       "        'VSCODE_GIT_ASKPASS_MAIN': '/vscode/vscode-server/bin/linux-arm64/dc96b837cf6bb4af9cd736aa3af08cf8279f7685/extensions/git/dist/askpass-main.js',\n",
       "        'PYTHON_GET_PIP_URL': 'https://github.com/pypa/get-pip/raw/dbf0c85f76fb6e1ab42aa672ffca6f0a675d9ee4/public/get-pip.py',\n",
       "        'BROWSER': '/vscode/vscode-server/bin/linux-arm64/dc96b837cf6bb4af9cd736aa3af08cf8279f7685/bin/helpers/browser.sh',\n",
       "        'PATH': '/home/vscode/.local/share/virtualenvs/llm-zoomcamp-2024-06-AewTI3k1/bin:/vscode/vscode-server/bin/linux-arm64/dc96b837cf6bb4af9cd736aa3af08cf8279f7685/bin/remote-cli:/usr/local/python/current/bin:/usr/local/py-utils/bin:/usr/local/share/nvm/current/bin:/usr/local/bin:/usr/local/python/current/bin:/usr/local/py-utils/bin:/usr/local/share/nvm/current/bin:/usr/local/bin:/usr/local/sbin:/usr/local/bin:/usr/sbin:/usr/bin:/sbin:/bin:/home/vscode/.local/bin',\n",
       "        'TERM_PROGRAM': 'vscode',\n",
       "        'VSCODE_IPC_HOOK_CLI': '/tmp/vscode-ipc-f1cb7d64-b61d-499e-8f4a-cbfae168926c.sock',\n",
       "        '_': '/usr/local/bin/jupyter',\n",
       "        'JPY_SESSION_NAME': '/workspaces/llm-zoomcamp-2024-06/01-intro/homework.ipynb',\n",
       "        'JPY_PARENT_PID': '1020',\n",
       "        'PYDEVD_USE_FRAME_EVAL': 'NO',\n",
       "        'CLICOLOR': '1',\n",
       "        'FORCE_COLOR': '1',\n",
       "        'CLICOLOR_FORCE': '1',\n",
       "        'PAGER': 'cat',\n",
       "        'GIT_PAGER': 'cat',\n",
       "        'MPLBACKEND': 'module://matplotlib_inline.backend_inline'}"
      ]
     },
     "execution_count": 2,
     "metadata": {},
     "output_type": "execute_result"
    }
   ],
   "source": [
    "import os\n",
    "os.environ"
   ]
  },
  {
   "cell_type": "code",
   "execution_count": 3,
   "id": "9579d6bc-6557-4012-b04e-778b3a71ccdc",
   "metadata": {},
   "outputs": [],
   "source": [
    "response = client.chat.completions.create(\n",
    "    model='gpt-4o',\n",
    "    messages=[{\"role\": \"user\", \"content\": \"Is it too late to join the course?\"}]\n",
    ")"
   ]
  },
  {
   "cell_type": "code",
   "execution_count": 4,
   "id": "ddf5cc90-cd23-4411-a64e-df2141bf314c",
   "metadata": {},
   "outputs": [
    {
     "data": {
      "text/plain": [
       "ChatCompletion(id='chatcmpl-9dNmd2yIWBMOhkTc47cop1B7gufGs', choices=[Choice(finish_reason='stop', index=0, logprobs=None, message=ChatCompletionMessage(content=\"It's hard to say without more context. Whether it's too late to join a course depends on several factors, such as the specific course's enrollment deadlines, the institution's policies, the time of the academic year, and how much of the course material has already been covered.\\n\\nHere are a few steps you can take to find out:\\n\\n1. **Check the Course Schedule**: Look at the official course information or syllabus to see if there are specific deadlines for enrollment.\\n   \\n2. **Contact the Instructor or Course Coordinator**: They can provide information on whether late enrollment is possible and what you might need to do to catch up if you join late.\\n\\n3. **Check with the Institution's Registrar or Admissions Office**: They can give you detailed information about enrollment policies and cut-off dates.\\n\\n4. **Review the Course Material**: If a significant portion of the course has already been completed, consider whether you'll be able to catch up on missed content.\\n\\nIf you can provide more details about the course and any specific deadlines, I might be able to give more tailored advice.\", role='assistant', function_call=None, tool_calls=None))], created=1719173243, model='gpt-4o-2024-05-13', object='chat.completion', service_tier=None, system_fingerprint='fp_9cb5d38cf7', usage=CompletionUsage(completion_tokens=215, prompt_tokens=16, total_tokens=231))"
      ]
     },
     "execution_count": 4,
     "metadata": {},
     "output_type": "execute_result"
    }
   ],
   "source": [
    "response"
   ]
  },
  {
   "cell_type": "code",
   "execution_count": null,
   "id": "c02218c8-50aa-403b-83ea-452a3ca092a9",
   "metadata": {},
   "outputs": [],
   "source": []
  }
 ],
 "metadata": {
  "kernelspec": {
   "display_name": "Python 3 (ipykernel)",
   "language": "python",
   "name": "python3"
  },
  "language_info": {
   "codemirror_mode": {
    "name": "ipython",
    "version": 3
   },
   "file_extension": ".py",
   "mimetype": "text/x-python",
   "name": "python",
   "nbconvert_exporter": "python",
   "pygments_lexer": "ipython3",
   "version": "3.12.3"
  }
 },
 "nbformat": 4,
 "nbformat_minor": 5
}
